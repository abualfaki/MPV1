{
 "cells": [
  {
   "cell_type": "code",
   "execution_count": 1,
   "id": "bbea45b0",
   "metadata": {},
   "outputs": [],
   "source": [
    "import pandas as pd\n",
    "\n",
    "# Convert rejected loans csv to dataframe\n",
    "rejected_loans_df = pd.read_csv('/Users/abubakaral-faki/Documents/Data Project/MPV1/data/raw/rejected_2007_to_2018Q4.csv')"
   ]
  },
  {
   "cell_type": "markdown",
   "id": "45f8e195",
   "metadata": {},
   "source": [
    "## Explore dataset and variable data types"
   ]
  },
  {
   "cell_type": "code",
   "execution_count": 2,
   "id": "3dace9be",
   "metadata": {},
   "outputs": [
    {
     "data": {
      "text/html": [
       "<div>\n",
       "<style scoped>\n",
       "    .dataframe tbody tr th:only-of-type {\n",
       "        vertical-align: middle;\n",
       "    }\n",
       "\n",
       "    .dataframe tbody tr th {\n",
       "        vertical-align: top;\n",
       "    }\n",
       "\n",
       "    .dataframe thead th {\n",
       "        text-align: right;\n",
       "    }\n",
       "</style>\n",
       "<table border=\"1\" class=\"dataframe\">\n",
       "  <thead>\n",
       "    <tr style=\"text-align: right;\">\n",
       "      <th></th>\n",
       "      <th>Amount Requested</th>\n",
       "      <th>Application Date</th>\n",
       "      <th>Loan Title</th>\n",
       "      <th>Risk_Score</th>\n",
       "      <th>Debt-To-Income Ratio</th>\n",
       "      <th>Zip Code</th>\n",
       "      <th>State</th>\n",
       "      <th>Employment Length</th>\n",
       "      <th>Policy Code</th>\n",
       "    </tr>\n",
       "  </thead>\n",
       "  <tbody>\n",
       "    <tr>\n",
       "      <th>0</th>\n",
       "      <td>1000.0</td>\n",
       "      <td>2007-05-26</td>\n",
       "      <td>Wedding Covered but No Honeymoon</td>\n",
       "      <td>693.0</td>\n",
       "      <td>10%</td>\n",
       "      <td>481xx</td>\n",
       "      <td>NM</td>\n",
       "      <td>4 years</td>\n",
       "      <td>0.0</td>\n",
       "    </tr>\n",
       "    <tr>\n",
       "      <th>1</th>\n",
       "      <td>1000.0</td>\n",
       "      <td>2007-05-26</td>\n",
       "      <td>Consolidating Debt</td>\n",
       "      <td>703.0</td>\n",
       "      <td>10%</td>\n",
       "      <td>010xx</td>\n",
       "      <td>MA</td>\n",
       "      <td>&lt; 1 year</td>\n",
       "      <td>0.0</td>\n",
       "    </tr>\n",
       "    <tr>\n",
       "      <th>2</th>\n",
       "      <td>11000.0</td>\n",
       "      <td>2007-05-27</td>\n",
       "      <td>Want to consolidate my debt</td>\n",
       "      <td>715.0</td>\n",
       "      <td>10%</td>\n",
       "      <td>212xx</td>\n",
       "      <td>MD</td>\n",
       "      <td>1 year</td>\n",
       "      <td>0.0</td>\n",
       "    </tr>\n",
       "    <tr>\n",
       "      <th>3</th>\n",
       "      <td>6000.0</td>\n",
       "      <td>2007-05-27</td>\n",
       "      <td>waksman</td>\n",
       "      <td>698.0</td>\n",
       "      <td>38.64%</td>\n",
       "      <td>017xx</td>\n",
       "      <td>MA</td>\n",
       "      <td>&lt; 1 year</td>\n",
       "      <td>0.0</td>\n",
       "    </tr>\n",
       "    <tr>\n",
       "      <th>4</th>\n",
       "      <td>1500.0</td>\n",
       "      <td>2007-05-27</td>\n",
       "      <td>mdrigo</td>\n",
       "      <td>509.0</td>\n",
       "      <td>9.43%</td>\n",
       "      <td>209xx</td>\n",
       "      <td>MD</td>\n",
       "      <td>&lt; 1 year</td>\n",
       "      <td>0.0</td>\n",
       "    </tr>\n",
       "  </tbody>\n",
       "</table>\n",
       "</div>"
      ],
      "text/plain": [
       "   Amount Requested Application Date                        Loan Title  \\\n",
       "0            1000.0       2007-05-26  Wedding Covered but No Honeymoon   \n",
       "1            1000.0       2007-05-26                Consolidating Debt   \n",
       "2           11000.0       2007-05-27       Want to consolidate my debt   \n",
       "3            6000.0       2007-05-27                           waksman   \n",
       "4            1500.0       2007-05-27                            mdrigo   \n",
       "\n",
       "   Risk_Score Debt-To-Income Ratio Zip Code State Employment Length  \\\n",
       "0       693.0                  10%    481xx    NM           4 years   \n",
       "1       703.0                  10%    010xx    MA          < 1 year   \n",
       "2       715.0                  10%    212xx    MD            1 year   \n",
       "3       698.0               38.64%    017xx    MA          < 1 year   \n",
       "4       509.0                9.43%    209xx    MD          < 1 year   \n",
       "\n",
       "   Policy Code  \n",
       "0          0.0  \n",
       "1          0.0  \n",
       "2          0.0  \n",
       "3          0.0  \n",
       "4          0.0  "
      ]
     },
     "execution_count": 2,
     "metadata": {},
     "output_type": "execute_result"
    }
   ],
   "source": [
    "rejected_loans_df.head()"
   ]
  },
  {
   "cell_type": "code",
   "execution_count": 3,
   "id": "01a8a8b9",
   "metadata": {},
   "outputs": [
    {
     "name": "stdout",
     "output_type": "stream",
     "text": [
      "Amount Requested        float64\n",
      "Application Date         object\n",
      "Loan Title               object\n",
      "Risk_Score              float64\n",
      "Debt-To-Income Ratio     object\n",
      "Zip Code                 object\n",
      "State                    object\n",
      "Employment Length        object\n",
      "Policy Code             float64\n",
      "dtype: object\n"
     ]
    }
   ],
   "source": [
    "# Check datatypes of all columns\n",
    "\n",
    "columns = rejected_loans_df.columns #store all columns in an iterable\n",
    "\n",
    "print(rejected_loans_df[columns].dtypes)"
   ]
  },
  {
   "cell_type": "markdown",
   "id": "2ed671f4",
   "metadata": {},
   "source": [
    "## Rename column to 'snake_case' format"
   ]
  },
  {
   "cell_type": "code",
   "execution_count": 4,
   "id": "39595df1",
   "metadata": {},
   "outputs": [
    {
     "name": "stdout",
     "output_type": "stream",
     "text": [
      "Index(['amount_requested', 'application_date', 'loan_title', 'risk_score',\n",
      "       'debt-to-income_ratio', 'zip_code', 'state', 'employment_length',\n",
      "       'policy_code'],\n",
      "      dtype='object')\n"
     ]
    }
   ],
   "source": [
    "# make column names lower case and replace spaces with '_' (underscores)\n",
    "\n",
    "rejected_loans_df.columns = rejected_loans_df.columns.str.lower().str.replace(' ', '_')\n",
    "\n",
    "print(rejected_loans_df.columns)"
   ]
  },
  {
   "cell_type": "code",
   "execution_count": 5,
   "id": "29265995",
   "metadata": {},
   "outputs": [
    {
     "name": "stdout",
     "output_type": "stream",
     "text": [
      "Index(['amount_requested', 'application_date', 'loan_title', 'risk_score',\n",
      "       'dti_ratio', 'zip_code', 'state', 'employment_length', 'policy_code'],\n",
      "      dtype='object')\n"
     ]
    }
   ],
   "source": [
    "#rename 'debt-to-income_ratio' to dti_ratio\n",
    "\n",
    "rejected_loans_df.rename(columns = {'debt-to-income_ratio': 'dti_ratio'}, inplace = True)\n",
    "\n",
    "print(rejected_loans_df.columns)"
   ]
  },
  {
   "cell_type": "code",
   "execution_count": 6,
   "id": "88438ea6",
   "metadata": {},
   "outputs": [],
   "source": [
    "# Convert application_date into date data type\n",
    "\n",
    "date_format = '%Y-%m-%d'\n",
    "\n",
    "rejected_loans_df['application_date'] = pd.to_datetime(rejected_loans_df['application_date'], format = date_format, errors = 'coerce')"
   ]
  },
  {
   "cell_type": "code",
   "execution_count": 7,
   "id": "a3355ad0",
   "metadata": {},
   "outputs": [
    {
     "name": "stdout",
     "output_type": "stream",
     "text": [
      "Datatype of 'application_date' column: datetime64[ns]\n"
     ]
    }
   ],
   "source": [
    "# confirm datatype of all 'application_date'\n",
    "\n",
    "print('Datatype of \\'application_date\\' column:', rejected_loans_df['application_date'].dtypes)"
   ]
  },
  {
   "cell_type": "markdown",
   "id": "be72da62",
   "metadata": {},
   "source": []
  },
  {
   "cell_type": "code",
   "execution_count": 8,
   "id": "1c49ad11",
   "metadata": {},
   "outputs": [
    {
     "data": {
      "text/plain": [
       "0"
      ]
     },
     "execution_count": 8,
     "metadata": {},
     "output_type": "execute_result"
    }
   ],
   "source": [
    "# CHeck for missing values in 'application_date column'\n",
    "\n",
    "rejected_loans_df['application_date'].isna().sum()"
   ]
  },
  {
   "cell_type": "markdown",
   "id": "b83287d5",
   "metadata": {},
   "source": [
    "No null values in application_date column"
   ]
  },
  {
   "cell_type": "markdown",
   "id": "58c733e8",
   "metadata": {},
   "source": [
    "## Check for missing values all columns"
   ]
  },
  {
   "cell_type": "code",
   "execution_count": 9,
   "id": "1b1d38c5",
   "metadata": {
    "scrolled": true
   },
   "outputs": [],
   "source": [
    "missing_values = rejected_loans_df.isna().sum()"
   ]
  },
  {
   "cell_type": "code",
   "execution_count": 10,
   "id": "b344fa0f",
   "metadata": {},
   "outputs": [
    {
     "name": "stdout",
     "output_type": "stream",
     "text": [
      "amount_requested            0\n",
      "application_date            0\n",
      "loan_title               1305\n",
      "risk_score           18497630\n",
      "dti_ratio                   0\n",
      "zip_code                  293\n",
      "state                      22\n",
      "employment_length      951355\n",
      "policy_code               918\n",
      "dtype: int64\n"
     ]
    }
   ],
   "source": [
    "print(missing_values)"
   ]
  },
  {
   "cell_type": "code",
   "execution_count": 22,
   "id": "4dc360ec",
   "metadata": {},
   "outputs": [
    {
     "name": "stdout",
     "output_type": "stream",
     "text": [
      "                   missing_count  percentage_missing\n",
      "loan_title                  1305               0.005\n",
      "risk_score              18497630              66.902\n",
      "zip_code                     293               0.001\n",
      "state                         22               0.000\n",
      "employment_length         951355               3.441\n",
      "policy_code                  918               0.003\n"
     ]
    }
   ],
   "source": [
    "# Convert missing_values to Dataframe\n",
    "missing_values_df = missing_values.to_frame(name = 'missing_count')\n",
    "\n",
    "# Compute percentage of missing values in of a column\n",
    "missing_values_df['percentage_missing'] = round((missing_values_df['missing_count']/rejected_loans_df.shape[0]) * 100,3)\n",
    "\n",
    "# Show only columns that have missing values\n",
    "print(missing_values_df[missing_values_df['missing_count'] != 0])"
   ]
  },
  {
   "cell_type": "markdown",
   "id": "a9edead3",
   "metadata": {},
   "source": [
    "we can see that risk_score has a 67% of its values missing which is significant compared to the whole datatset"
   ]
  },
  {
   "cell_type": "code",
   "execution_count": 44,
   "id": "01b96164",
   "metadata": {},
   "outputs": [
    {
     "data": {
      "text/plain": [
       "1305"
      ]
     },
     "execution_count": 44,
     "metadata": {},
     "output_type": "execute_result"
    }
   ],
   "source": [
    "rejected_loans_df['loan_title'].isna().sum()"
   ]
  },
  {
   "cell_type": "code",
   "execution_count": 28,
   "id": "d23de19d",
   "metadata": {},
   "outputs": [
    {
     "data": {
      "text/html": [
       "<div>\n",
       "<style scoped>\n",
       "    .dataframe tbody tr th:only-of-type {\n",
       "        vertical-align: middle;\n",
       "    }\n",
       "\n",
       "    .dataframe tbody tr th {\n",
       "        vertical-align: top;\n",
       "    }\n",
       "\n",
       "    .dataframe thead th {\n",
       "        text-align: right;\n",
       "    }\n",
       "</style>\n",
       "<table border=\"1\" class=\"dataframe\">\n",
       "  <thead>\n",
       "    <tr style=\"text-align: right;\">\n",
       "      <th></th>\n",
       "      <th>amount_requested</th>\n",
       "      <th>application_date</th>\n",
       "      <th>loan_title</th>\n",
       "      <th>risk_score</th>\n",
       "      <th>dti_ratio</th>\n",
       "      <th>zip_code</th>\n",
       "      <th>state</th>\n",
       "      <th>employment_length</th>\n",
       "      <th>policy_code</th>\n",
       "    </tr>\n",
       "  </thead>\n",
       "  <tbody>\n",
       "    <tr>\n",
       "      <th>13863</th>\n",
       "      <td>25000.0</td>\n",
       "      <td>2008-04-06</td>\n",
       "      <td>NaN</td>\n",
       "      <td>643.0</td>\n",
       "      <td>17.33%</td>\n",
       "      <td>681xx</td>\n",
       "      <td>NE</td>\n",
       "      <td>1 year</td>\n",
       "      <td>0.0</td>\n",
       "    </tr>\n",
       "    <tr>\n",
       "      <th>31073</th>\n",
       "      <td>15000.0</td>\n",
       "      <td>2009-01-03</td>\n",
       "      <td>NaN</td>\n",
       "      <td>511.0</td>\n",
       "      <td>12.92%</td>\n",
       "      <td>631xx</td>\n",
       "      <td>MO</td>\n",
       "      <td>5 years</td>\n",
       "      <td>0.0</td>\n",
       "    </tr>\n",
       "    <tr>\n",
       "      <th>31076</th>\n",
       "      <td>10000.0</td>\n",
       "      <td>2009-01-03</td>\n",
       "      <td>NaN</td>\n",
       "      <td>621.0</td>\n",
       "      <td>2.31%</td>\n",
       "      <td>631xx</td>\n",
       "      <td>MO</td>\n",
       "      <td>5 years</td>\n",
       "      <td>0.0</td>\n",
       "    </tr>\n",
       "    <tr>\n",
       "      <th>31976</th>\n",
       "      <td>5000.0</td>\n",
       "      <td>2009-01-12</td>\n",
       "      <td>NaN</td>\n",
       "      <td>626.0</td>\n",
       "      <td>9.06%</td>\n",
       "      <td>631xx</td>\n",
       "      <td>MO</td>\n",
       "      <td>1 year</td>\n",
       "      <td>0.0</td>\n",
       "    </tr>\n",
       "    <tr>\n",
       "      <th>31979</th>\n",
       "      <td>2000.0</td>\n",
       "      <td>2009-01-12</td>\n",
       "      <td>NaN</td>\n",
       "      <td>0.0</td>\n",
       "      <td>0%</td>\n",
       "      <td>631xx</td>\n",
       "      <td>MO</td>\n",
       "      <td>3 years</td>\n",
       "      <td>0.0</td>\n",
       "    </tr>\n",
       "  </tbody>\n",
       "</table>\n",
       "</div>"
      ],
      "text/plain": [
       "       amount_requested application_date loan_title  risk_score dti_ratio  \\\n",
       "13863           25000.0       2008-04-06        NaN       643.0    17.33%   \n",
       "31073           15000.0       2009-01-03        NaN       511.0    12.92%   \n",
       "31076           10000.0       2009-01-03        NaN       621.0     2.31%   \n",
       "31976            5000.0       2009-01-12        NaN       626.0     9.06%   \n",
       "31979            2000.0       2009-01-12        NaN         0.0        0%   \n",
       "\n",
       "      zip_code state employment_length  policy_code  \n",
       "13863    681xx    NE            1 year          0.0  \n",
       "31073    631xx    MO           5 years          0.0  \n",
       "31076    631xx    MO           5 years          0.0  \n",
       "31976    631xx    MO            1 year          0.0  \n",
       "31979    631xx    MO           3 years          0.0  "
      ]
     },
     "execution_count": 28,
     "metadata": {},
     "output_type": "execute_result"
    }
   ],
   "source": [
    "#Identify rows with missing values\n",
    "\n",
    "rejected_loans_df[rejected_loans_df['loan_title'].isna()].head()\n",
    "\n"
   ]
  },
  {
   "cell_type": "code",
   "execution_count": 30,
   "id": "8e5a356d",
   "metadata": {},
   "outputs": [
    {
     "name": "stdout",
     "output_type": "stream",
     "text": [
      "0    481\n",
      "1    010\n",
      "2    212\n",
      "3    017\n",
      "4    209\n",
      "Name: zip_code_prefix, dtype: object\n"
     ]
    }
   ],
   "source": [
    "# create a zip_code_prefix column to contain the first numbers of a zip_code\n",
    "\n",
    "rejected_loans_df['zip_code_prefix'] = rejected_loans_df['zip_code'].str[:3]\n",
    "\n",
    "print(rejected_loans_df['zip_code_prefix'].head())"
   ]
  },
  {
   "cell_type": "code",
   "execution_count": 31,
   "id": "eac17f89",
   "metadata": {},
   "outputs": [
    {
     "name": "stdout",
     "output_type": "stream",
     "text": [
      "object\n"
     ]
    }
   ],
   "source": [
    "print(rejected_loans_df['zip_code_prefix'].dtype)"
   ]
  },
  {
   "cell_type": "code",
   "execution_count": 35,
   "id": "f249958e",
   "metadata": {},
   "outputs": [
    {
     "name": "stdout",
     "output_type": "stream",
     "text": [
      "293\n"
     ]
    }
   ],
   "source": [
    "print(rejected_loans_df['zip_code_prefix'].isna().sum())"
   ]
  },
  {
   "cell_type": "code",
   "execution_count": 38,
   "id": "7de448b4",
   "metadata": {},
   "outputs": [
    {
     "name": "stdout",
     "output_type": "stream",
     "text": [
      "       amount_requested application_date                  loan_title  \\\n",
      "10521            2000.0       2008-03-07  help credit cards problems   \n",
      "10553            7500.0       2008-03-07   Looking for better rates!   \n",
      "10572            7000.0       2008-03-07               PERSONAL LOAN   \n",
      "10578            7000.0       2008-03-07              Paying of debt   \n",
      "10588           15000.0       2008-03-07                Loan request   \n",
      "\n",
      "       risk_score dti_ratio zip_code state employment_length  policy_code  \\\n",
      "10521       673.0       -1%      NaN   NaN          < 1 year          0.0   \n",
      "10553       614.0       -1%      NaN   NaN          < 1 year          0.0   \n",
      "10572       612.0       -1%      NaN   NaN          < 1 year          0.0   \n",
      "10578       733.0       -1%      NaN   NaN          < 1 year          0.0   \n",
      "10588       672.0       -1%      NaN   NaN          < 1 year          0.0   \n",
      "\n",
      "      zip_code_prefix  \n",
      "10521             NaN  \n",
      "10553             NaN  \n",
      "10572             NaN  \n",
      "10578             NaN  \n",
      "10588             NaN  \n"
     ]
    }
   ],
   "source": [
    "print(rejected_loans_df[rejected_loans_df['zip_code_prefix'].isna()].head())"
   ]
  },
  {
   "cell_type": "code",
   "execution_count": 32,
   "id": "414ecb99",
   "metadata": {},
   "outputs": [
    {
     "ename": "ValueError",
     "evalue": "cannot convert float NaN to integer",
     "output_type": "error",
     "traceback": [
      "\u001b[0;31m---------------------------------------------------------------------------\u001b[0m",
      "\u001b[0;31mValueError\u001b[0m                                Traceback (most recent call last)",
      "Cell \u001b[0;32mIn[32], line 1\u001b[0m\n\u001b[0;32m----> 1\u001b[0m rejected_loans_df[\u001b[38;5;124m'\u001b[39m\u001b[38;5;124mzip_code_prefix\u001b[39m\u001b[38;5;124m'\u001b[39m]\u001b[38;5;241m.\u001b[39mastype(\u001b[38;5;124m'\u001b[39m\u001b[38;5;124mint\u001b[39m\u001b[38;5;124m'\u001b[39m)\n",
      "File \u001b[0;32m~/anaconda3/lib/python3.11/site-packages/pandas/core/generic.py:6324\u001b[0m, in \u001b[0;36mNDFrame.astype\u001b[0;34m(self, dtype, copy, errors)\u001b[0m\n\u001b[1;32m   6317\u001b[0m     results \u001b[38;5;241m=\u001b[39m [\n\u001b[1;32m   6318\u001b[0m         \u001b[38;5;28mself\u001b[39m\u001b[38;5;241m.\u001b[39miloc[:, i]\u001b[38;5;241m.\u001b[39mastype(dtype, copy\u001b[38;5;241m=\u001b[39mcopy)\n\u001b[1;32m   6319\u001b[0m         \u001b[38;5;28;01mfor\u001b[39;00m i \u001b[38;5;129;01min\u001b[39;00m \u001b[38;5;28mrange\u001b[39m(\u001b[38;5;28mlen\u001b[39m(\u001b[38;5;28mself\u001b[39m\u001b[38;5;241m.\u001b[39mcolumns))\n\u001b[1;32m   6320\u001b[0m     ]\n\u001b[1;32m   6322\u001b[0m \u001b[38;5;28;01melse\u001b[39;00m:\n\u001b[1;32m   6323\u001b[0m     \u001b[38;5;66;03m# else, only a single dtype is given\u001b[39;00m\n\u001b[0;32m-> 6324\u001b[0m     new_data \u001b[38;5;241m=\u001b[39m \u001b[38;5;28mself\u001b[39m\u001b[38;5;241m.\u001b[39m_mgr\u001b[38;5;241m.\u001b[39mastype(dtype\u001b[38;5;241m=\u001b[39mdtype, copy\u001b[38;5;241m=\u001b[39mcopy, errors\u001b[38;5;241m=\u001b[39merrors)\n\u001b[1;32m   6325\u001b[0m     \u001b[38;5;28;01mreturn\u001b[39;00m \u001b[38;5;28mself\u001b[39m\u001b[38;5;241m.\u001b[39m_constructor(new_data)\u001b[38;5;241m.\u001b[39m__finalize__(\u001b[38;5;28mself\u001b[39m, method\u001b[38;5;241m=\u001b[39m\u001b[38;5;124m\"\u001b[39m\u001b[38;5;124mastype\u001b[39m\u001b[38;5;124m\"\u001b[39m)\n\u001b[1;32m   6327\u001b[0m \u001b[38;5;66;03m# GH 33113: handle empty frame or series\u001b[39;00m\n",
      "File \u001b[0;32m~/anaconda3/lib/python3.11/site-packages/pandas/core/internals/managers.py:451\u001b[0m, in \u001b[0;36mBaseBlockManager.astype\u001b[0;34m(self, dtype, copy, errors)\u001b[0m\n\u001b[1;32m    448\u001b[0m \u001b[38;5;28;01melif\u001b[39;00m using_copy_on_write():\n\u001b[1;32m    449\u001b[0m     copy \u001b[38;5;241m=\u001b[39m \u001b[38;5;28;01mFalse\u001b[39;00m\n\u001b[0;32m--> 451\u001b[0m \u001b[38;5;28;01mreturn\u001b[39;00m \u001b[38;5;28mself\u001b[39m\u001b[38;5;241m.\u001b[39mapply(\n\u001b[1;32m    452\u001b[0m     \u001b[38;5;124m\"\u001b[39m\u001b[38;5;124mastype\u001b[39m\u001b[38;5;124m\"\u001b[39m,\n\u001b[1;32m    453\u001b[0m     dtype\u001b[38;5;241m=\u001b[39mdtype,\n\u001b[1;32m    454\u001b[0m     copy\u001b[38;5;241m=\u001b[39mcopy,\n\u001b[1;32m    455\u001b[0m     errors\u001b[38;5;241m=\u001b[39merrors,\n\u001b[1;32m    456\u001b[0m     using_cow\u001b[38;5;241m=\u001b[39musing_copy_on_write(),\n\u001b[1;32m    457\u001b[0m )\n",
      "File \u001b[0;32m~/anaconda3/lib/python3.11/site-packages/pandas/core/internals/managers.py:352\u001b[0m, in \u001b[0;36mBaseBlockManager.apply\u001b[0;34m(self, f, align_keys, **kwargs)\u001b[0m\n\u001b[1;32m    350\u001b[0m         applied \u001b[38;5;241m=\u001b[39m b\u001b[38;5;241m.\u001b[39mapply(f, \u001b[38;5;241m*\u001b[39m\u001b[38;5;241m*\u001b[39mkwargs)\n\u001b[1;32m    351\u001b[0m     \u001b[38;5;28;01melse\u001b[39;00m:\n\u001b[0;32m--> 352\u001b[0m         applied \u001b[38;5;241m=\u001b[39m \u001b[38;5;28mgetattr\u001b[39m(b, f)(\u001b[38;5;241m*\u001b[39m\u001b[38;5;241m*\u001b[39mkwargs)\n\u001b[1;32m    353\u001b[0m     result_blocks \u001b[38;5;241m=\u001b[39m extend_blocks(applied, result_blocks)\n\u001b[1;32m    355\u001b[0m out \u001b[38;5;241m=\u001b[39m \u001b[38;5;28mtype\u001b[39m(\u001b[38;5;28mself\u001b[39m)\u001b[38;5;241m.\u001b[39mfrom_blocks(result_blocks, \u001b[38;5;28mself\u001b[39m\u001b[38;5;241m.\u001b[39maxes)\n",
      "File \u001b[0;32m~/anaconda3/lib/python3.11/site-packages/pandas/core/internals/blocks.py:511\u001b[0m, in \u001b[0;36mBlock.astype\u001b[0;34m(self, dtype, copy, errors, using_cow)\u001b[0m\n\u001b[1;32m    491\u001b[0m \u001b[38;5;250m\u001b[39m\u001b[38;5;124;03m\"\"\"\u001b[39;00m\n\u001b[1;32m    492\u001b[0m \u001b[38;5;124;03mCoerce to the new dtype.\u001b[39;00m\n\u001b[1;32m    493\u001b[0m \n\u001b[0;32m   (...)\u001b[0m\n\u001b[1;32m    507\u001b[0m \u001b[38;5;124;03mBlock\u001b[39;00m\n\u001b[1;32m    508\u001b[0m \u001b[38;5;124;03m\"\"\"\u001b[39;00m\n\u001b[1;32m    509\u001b[0m values \u001b[38;5;241m=\u001b[39m \u001b[38;5;28mself\u001b[39m\u001b[38;5;241m.\u001b[39mvalues\n\u001b[0;32m--> 511\u001b[0m new_values \u001b[38;5;241m=\u001b[39m astype_array_safe(values, dtype, copy\u001b[38;5;241m=\u001b[39mcopy, errors\u001b[38;5;241m=\u001b[39merrors)\n\u001b[1;32m    513\u001b[0m new_values \u001b[38;5;241m=\u001b[39m maybe_coerce_values(new_values)\n\u001b[1;32m    515\u001b[0m refs \u001b[38;5;241m=\u001b[39m \u001b[38;5;28;01mNone\u001b[39;00m\n",
      "File \u001b[0;32m~/anaconda3/lib/python3.11/site-packages/pandas/core/dtypes/astype.py:242\u001b[0m, in \u001b[0;36mastype_array_safe\u001b[0;34m(values, dtype, copy, errors)\u001b[0m\n\u001b[1;32m    239\u001b[0m     dtype \u001b[38;5;241m=\u001b[39m dtype\u001b[38;5;241m.\u001b[39mnumpy_dtype\n\u001b[1;32m    241\u001b[0m \u001b[38;5;28;01mtry\u001b[39;00m:\n\u001b[0;32m--> 242\u001b[0m     new_values \u001b[38;5;241m=\u001b[39m astype_array(values, dtype, copy\u001b[38;5;241m=\u001b[39mcopy)\n\u001b[1;32m    243\u001b[0m \u001b[38;5;28;01mexcept\u001b[39;00m (\u001b[38;5;167;01mValueError\u001b[39;00m, \u001b[38;5;167;01mTypeError\u001b[39;00m):\n\u001b[1;32m    244\u001b[0m     \u001b[38;5;66;03m# e.g. _astype_nansafe can fail on object-dtype of strings\u001b[39;00m\n\u001b[1;32m    245\u001b[0m     \u001b[38;5;66;03m#  trying to convert to float\u001b[39;00m\n\u001b[1;32m    246\u001b[0m     \u001b[38;5;28;01mif\u001b[39;00m errors \u001b[38;5;241m==\u001b[39m \u001b[38;5;124m\"\u001b[39m\u001b[38;5;124mignore\u001b[39m\u001b[38;5;124m\"\u001b[39m:\n",
      "File \u001b[0;32m~/anaconda3/lib/python3.11/site-packages/pandas/core/dtypes/astype.py:187\u001b[0m, in \u001b[0;36mastype_array\u001b[0;34m(values, dtype, copy)\u001b[0m\n\u001b[1;32m    184\u001b[0m     values \u001b[38;5;241m=\u001b[39m values\u001b[38;5;241m.\u001b[39mastype(dtype, copy\u001b[38;5;241m=\u001b[39mcopy)\n\u001b[1;32m    186\u001b[0m \u001b[38;5;28;01melse\u001b[39;00m:\n\u001b[0;32m--> 187\u001b[0m     values \u001b[38;5;241m=\u001b[39m _astype_nansafe(values, dtype, copy\u001b[38;5;241m=\u001b[39mcopy)\n\u001b[1;32m    189\u001b[0m \u001b[38;5;66;03m# in pandas we don't store numpy str dtypes, so convert to object\u001b[39;00m\n\u001b[1;32m    190\u001b[0m \u001b[38;5;28;01mif\u001b[39;00m \u001b[38;5;28misinstance\u001b[39m(dtype, np\u001b[38;5;241m.\u001b[39mdtype) \u001b[38;5;129;01mand\u001b[39;00m \u001b[38;5;28missubclass\u001b[39m(values\u001b[38;5;241m.\u001b[39mdtype\u001b[38;5;241m.\u001b[39mtype, \u001b[38;5;28mstr\u001b[39m):\n",
      "File \u001b[0;32m~/anaconda3/lib/python3.11/site-packages/pandas/core/dtypes/astype.py:138\u001b[0m, in \u001b[0;36m_astype_nansafe\u001b[0;34m(arr, dtype, copy, skipna)\u001b[0m\n\u001b[1;32m    134\u001b[0m     \u001b[38;5;28;01mraise\u001b[39;00m \u001b[38;5;167;01mValueError\u001b[39;00m(msg)\n\u001b[1;32m    136\u001b[0m \u001b[38;5;28;01mif\u001b[39;00m copy \u001b[38;5;129;01mor\u001b[39;00m is_object_dtype(arr\u001b[38;5;241m.\u001b[39mdtype) \u001b[38;5;129;01mor\u001b[39;00m is_object_dtype(dtype):\n\u001b[1;32m    137\u001b[0m     \u001b[38;5;66;03m# Explicit copy, or required since NumPy can't view from / to object.\u001b[39;00m\n\u001b[0;32m--> 138\u001b[0m     \u001b[38;5;28;01mreturn\u001b[39;00m arr\u001b[38;5;241m.\u001b[39mastype(dtype, copy\u001b[38;5;241m=\u001b[39m\u001b[38;5;28;01mTrue\u001b[39;00m)\n\u001b[1;32m    140\u001b[0m \u001b[38;5;28;01mreturn\u001b[39;00m arr\u001b[38;5;241m.\u001b[39mastype(dtype, copy\u001b[38;5;241m=\u001b[39mcopy)\n",
      "\u001b[0;31mValueError\u001b[0m: cannot convert float NaN to integer"
     ]
    }
   ],
   "source": [
    "rejected_loans_df['zip_code_prefix'].astype('int')"
   ]
  },
  {
   "cell_type": "code",
   "execution_count": null,
   "id": "2de5cbd3",
   "metadata": {},
   "outputs": [],
   "source": [
    "print(rejected_loans_df['zip_code_prefix'].dtype)"
   ]
  }
 ],
 "metadata": {
  "kernelspec": {
   "display_name": "Python 3 (ipykernel)",
   "language": "python",
   "name": "python3"
  },
  "language_info": {
   "codemirror_mode": {
    "name": "ipython",
    "version": 3
   },
   "file_extension": ".py",
   "mimetype": "text/x-python",
   "name": "python",
   "nbconvert_exporter": "python",
   "pygments_lexer": "ipython3",
   "version": "3.11.5"
  }
 },
 "nbformat": 4,
 "nbformat_minor": 5
}
