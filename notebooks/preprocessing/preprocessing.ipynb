{
 "cells": [
  {
   "cell_type": "code",
   "execution_count": null,
   "id": "fba7d9d5",
   "metadata": {},
   "outputs": [],
   "source": [
    "import pandas as pd\n",
    "\n",
    "#Convert accepted_loans data to Panda DataFrame\n",
    "accepted_df = pd.read_csv(\"/Users/abubakaral-faki/Documents/Data Project/MPV1/data/raw/accepted_2007_to_2018Q4.csv\")"
   ]
  },
  {
   "cell_type": "code",
   "execution_count": null,
   "id": "da516967",
   "metadata": {},
   "outputs": [],
   "source": [
    "#create a copy of data frame to work with temporarily before applying changes to original 'accepted_df' DataFrame\n",
    "accepted_df_copy = pd.DataFrame(accepted_df)\n",
    "print(accepted_df_copy.head())"
   ]
  },
  {
   "cell_type": "markdown",
   "id": "22628fb5",
   "metadata": {},
   "source": [
    "### Create a CSV of each column and it's datatype"
   ]
  },
  {
   "cell_type": "code",
   "execution_count": null,
   "id": "07760bc7",
   "metadata": {},
   "outputs": [],
   "source": [
    "# Get data types of each variable\n",
    "variable_data_types_df = accepted_df.dtypes.reset_index()\n",
    "\n",
    "# Rename columns\n",
    "variable_data_types_df.columns = ['Variables', 'Data Type']\n",
    "print(variable_data_types_df)\n",
    "\n",
    "#Save as csv\n",
    "try:\n",
    "    file_path = '/Users/abubakaral-faki/Documents/Data Project/MPV1/temp_files/variables_data_type.csv'\n",
    "    \n",
    "    variable_data_types_df.to_csv(file_path, index = False)\n",
    "    print(\"Successfully saved variable_data_types_df as a csv.\")\n",
    "\n",
    "except Exception as e:\n",
    "    print(e)"
   ]
  },
  {
   "cell_type": "markdown",
   "id": "d6020ea4",
   "metadata": {},
   "source": [
    "### Convert Date columns to Date Data Types"
   ]
  },
  {
   "cell_type": "code",
   "execution_count": null,
   "id": "62098fb6",
   "metadata": {},
   "outputs": [],
   "source": [
    "# Convert Date_columns to Date Data types\n",
    "date_columns = ['issue_d', 'earliest_cr_line', 'last_pymnt_d', 'next_pymnt_d',\n",
    "                'last_credit_pull_d', 'sec_app_earliest_cr_line', 'hardship_start_date',\n",
    "                'hardship_end_date', 'payment_plan_start_date', 'debt_settlement_flag_date', 'settlement_date']\n",
    "\n",
    "print(len(date_columns))"
   ]
  },
  {
   "cell_type": "code",
   "execution_count": null,
   "id": "ba343f30",
   "metadata": {},
   "outputs": [],
   "source": [
    "# Check format of date before converting to date objects\n",
    "\n",
    "# We use dropna to drop all missing values in a columns because sometimes the first few rows have missing values\n",
    "\n",
    "accepted_df.settlement_date.dropna().head() # Date format \"%b-$Y\""
   ]
  },
  {
   "cell_type": "code",
   "execution_count": null,
   "id": "d6a2d63e",
   "metadata": {},
   "outputs": [],
   "source": [
    "# Specify the correct format: %b for abbreviated month name, %Y for 4-digit year\n",
    "date_format = \"%b-%Y\"\n",
    "\n",
    "# Convert date columns efficiently using the specified format\n",
    "accepted_df_copy[date_columns] = accepted_df_copy[date_columns].apply(lambda col: pd.to_datetime(col,format =  date_format, errors = 'coerce'))\n",
    "\n",
    "print(accepted_df_copy.issue_d.head())"
   ]
  },
  {
   "cell_type": "code",
   "execution_count": null,
   "id": "5391ce2c",
   "metadata": {},
   "outputs": [],
   "source": [
    "# Check if all date columns are in date format\n",
    "accepted_df_copy[date_columns].dtypes"
   ]
  },
  {
   "cell_type": "code",
   "execution_count": null,
   "id": "09a64838",
   "metadata": {},
   "outputs": [],
   "source": [
    "# Check format of date columns\n",
    "print(accepted_df_copy.settlement_date.dropna().head())"
   ]
  },
  {
   "cell_type": "markdown",
   "id": "869b7e92",
   "metadata": {},
   "source": [
    "### Convert categorical columns to 'category' type"
   ]
  },
  {
   "cell_type": "code",
   "execution_count": null,
   "id": "f9fe48ba",
   "metadata": {},
   "outputs": [],
   "source": [
    "# Convert Categorical columns to category\n",
    "\n",
    "categorical_columns = ['term', 'grade', 'sub_grade', 'emp_length', 'home_ownership',\n",
    "                       'verification_status', 'loan_status', 'pymnt_plan', 'purpose',\n",
    "                       'title', 'addr_state', 'initial_list_status', 'application_type',\n",
    "                       'hardship_flag', 'hardship_type', 'hardship_reason', 'hardship_status',\n",
    "                       'hardship_loan_status', 'disbursement_method', 'debt_settlement_flag',\n",
    "                       'settlement_status']\n",
    "\n",
    "accepted_df_copy[categorical_columns] = accepted_df_copy[categorical_columns].apply(lambda col: col.astype('category'))"
   ]
  },
  {
   "cell_type": "code",
   "execution_count": null,
   "id": "20957295",
   "metadata": {},
   "outputs": [],
   "source": [
    "# Check if categorical columns are of categorical data type\n",
    "\n",
    "accepted_df_copy[categorical_columns].dtypes"
   ]
  },
  {
   "cell_type": "code",
   "execution_count": null,
   "id": "427da5dd",
   "metadata": {},
   "outputs": [],
   "source": [
    "# the title column will require some cleaning because the categories appear in a messiy format so I am converting \n",
    "# back to a string\n",
    "\n",
    "'''\n",
    "['\\tcredit_card', '\\tdebt_consolidation', '\\thouse', '\\tother', ..., 'zxcvb', '~Life Reorganization~', \n",
    "'~Summer Fun~', 'îîMY FIRST CAR îî']\n",
    "\n",
    "'''\n",
    "\n",
    "accepted_df_copy['title']"
   ]
  },
  {
   "cell_type": "code",
   "execution_count": null,
   "id": "b8930f9f",
   "metadata": {},
   "outputs": [],
   "source": [
    "# Convert title column to string\n",
    "accepted_df_copy['title'].astype(str)"
   ]
  },
  {
   "cell_type": "code",
   "execution_count": null,
   "id": "c47ff0c6",
   "metadata": {},
   "outputs": [],
   "source": [
    "# Replace 'nan' strings with 'unknown'\n",
    "accepted_df_copy['title'] = accepted_df_copy['title'].replace('nan', 'unknown')\n",
    "\n",
    "# fill NaN values (missing values) with 'unknown'\n",
    "accepted_df_copy['title'] = accepted_df_copy['title'].fillna('unknown')"
   ]
  },
  {
   "cell_type": "code",
   "execution_count": null,
   "id": "21201f97",
   "metadata": {},
   "outputs": [],
   "source": [
    "accepted_df_copy['title']"
   ]
  },
  {
   "cell_type": "code",
   "execution_count": null,
   "id": "3f9d1372",
   "metadata": {},
   "outputs": [],
   "source": [
    "# Check if 'title' column is of type 'object' type because pands represents string columns as object\n",
    "print(accepted_df_copy['title'].dtype)"
   ]
  },
  {
   "cell_type": "markdown",
   "id": "7c1ca5c0",
   "metadata": {},
   "source": [
    "### Convert 'id' column to int"
   ]
  },
  {
   "cell_type": "code",
   "execution_count": 386,
   "id": "c70a6eec",
   "metadata": {},
   "outputs": [
    {
     "name": "stdout",
     "output_type": "stream",
     "text": [
      "count    2.260668e+06\n",
      "mean     8.032206e+07\n",
      "std      4.498561e+07\n",
      "min      5.473400e+04\n",
      "25%      4.494527e+07\n",
      "50%      8.451542e+07\n",
      "75%      1.223571e+08\n",
      "max      1.456473e+08\n",
      "Name: id, dtype: float64\n"
     ]
    }
   ],
   "source": [
    "#Convert the id column to int\n",
    "\n",
    "#check if 'id' column has any missing values\n",
    "print(accepted_df_copy['id'].describe())\n",
    "\n",
    "#convert id column from objext(text) to int\n",
    "\n",
    "'''This code below didn't work because there is a row that is a string representing this value;\n",
    " 'Total amount funded in policy code 1: 6417608175'\n",
    "'''\n",
    "\n",
    "accepted_df_copy['id'] = accepted_df_copy['id'].astype(int)"
   ]
  },
  {
   "cell_type": "code",
   "execution_count": null,
   "id": "6b82d88b",
   "metadata": {},
   "outputs": [],
   "source": [
    "# find problematic row in 'id' column stopping it from being an int column\n",
    "problematic_row = accepted_df_copy[accepted_df_copy['id'] == 'Total amount funded in policy code 1: 6417608175'].index\n",
    "\n",
    "# Remove problematics row\n",
    "accepted_df_copy = accepted_df_copy.drop(index = problematic_row[0])"
   ]
  },
  {
   "cell_type": "code",
   "execution_count": null,
   "id": "b30e3f88",
   "metadata": {},
   "outputs": [],
   "source": [
    "# identify all rows in 'id' column that are not of type int\n",
    "\n",
    "non_int_rows = accepted_df_copy[~accepted_df_copy['id'].apply(lambda x: str(x).isdigit())] #32 rows\n",
    "\n",
    "print(non_int_rows)"
   ]
  },
  {
   "cell_type": "code",
   "execution_count": null,
   "id": "27fafb66",
   "metadata": {},
   "outputs": [],
   "source": [
    "# check if all columns associated with the non_int_rows in 'id' column are empty\n",
    "\n",
    "col_not_empty = non_int_rows.drop(columns=['id']).isna().all(axis=1)\n",
    "\n",
    "print(col_not_empty)\n",
    "\n",
    "#print(non_int_empty)\n",
    "\n",
    "''' \n",
    "The reults shows that the are columns that are not empty for rows where the 'id' is not an integer\n",
    "so we have to identify which columns are not empty for those rows\n",
    "'''"
   ]
  },
  {
   "cell_type": "code",
   "execution_count": 233,
   "id": "2b14b35c",
   "metadata": {},
   "outputs": [
    {
     "name": "stdout",
     "output_type": "stream",
     "text": [
      "                                                       id  member_id  \\\n",
      "421096   Total amount funded in policy code 2: 1944088810        NaN   \n",
      "528961   Total amount funded in policy code 1: 1741781700        NaN   \n",
      "528962    Total amount funded in policy code 2: 564202131        NaN   \n",
      "651664   Total amount funded in policy code 1: 1791201400        NaN   \n",
      "651665    Total amount funded in policy code 2: 651669342        NaN   \n",
      "749520   Total amount funded in policy code 1: 1443412975        NaN   \n",
      "749521    Total amount funded in policy code 2: 511988838        NaN   \n",
      "877716   Total amount funded in policy code 1: 2063142975        NaN   \n",
      "877717    Total amount funded in policy code 2: 823319310        NaN   \n",
      "983169   Total amount funded in policy code 1: 1538432075        NaN   \n",
      "983170    Total amount funded in policy code 2: 608903141        NaN   \n",
      "1117058  Total amount funded in policy code 1: 2087217200        NaN   \n",
      "1117059   Total amount funded in policy code 2: 662815446        NaN   \n",
      "1352689  Total amount funded in policy code 1: 3503840175        NaN   \n",
      "1352690   Total amount funded in policy code 2: 873652739        NaN   \n",
      "1481103  Total amount funded in policy code 1: 2050909275        NaN   \n",
      "1481104   Total amount funded in policy code 2: 820109297        NaN   \n",
      "1611877  Total amount funded in policy code 1: 2080429200        NaN   \n",
      "1611878   Total amount funded in policy code 2: 737901574        NaN   \n",
      "1651665          Loans that do not meet the credit policy        NaN   \n",
      "1654415   Total amount funded in policy code 1: 460296150        NaN   \n",
      "1654416           Total amount funded in policy code 2: 0        NaN   \n",
      "1751196  Total amount funded in policy code 1: 1437969475        NaN   \n",
      "1751197   Total amount funded in policy code 2: 520780182        NaN   \n",
      "1939379  Total amount funded in policy code 1: 2700702175        NaN   \n",
      "1939380    Total amount funded in policy code 2: 81866225        NaN   \n",
      "2038501  Total amount funded in policy code 1: 1404586950        NaN   \n",
      "2038502   Total amount funded in policy code 2: 567447023        NaN   \n",
      "2157151  Total amount funded in policy code 1: 1817354125        NaN   \n",
      "2157152   Total amount funded in policy code 2: 620899600        NaN   \n",
      "2260699  Total amount funded in policy code 1: 1465324575        NaN   \n",
      "2260700   Total amount funded in policy code 2: 521953170        NaN   \n",
      "\n",
      "         loan_amnt  funded_amnt  funded_amnt_inv term  int_rate  installment  \\\n",
      "421096         NaN          NaN              NaN  NaN       NaN          NaN   \n",
      "528961         NaN          NaN              NaN  NaN       NaN          NaN   \n",
      "528962         NaN          NaN              NaN  NaN       NaN          NaN   \n",
      "651664         NaN          NaN              NaN  NaN       NaN          NaN   \n",
      "651665         NaN          NaN              NaN  NaN       NaN          NaN   \n",
      "749520         NaN          NaN              NaN  NaN       NaN          NaN   \n",
      "749521         NaN          NaN              NaN  NaN       NaN          NaN   \n",
      "877716         NaN          NaN              NaN  NaN       NaN          NaN   \n",
      "877717         NaN          NaN              NaN  NaN       NaN          NaN   \n",
      "983169         NaN          NaN              NaN  NaN       NaN          NaN   \n",
      "983170         NaN          NaN              NaN  NaN       NaN          NaN   \n",
      "1117058        NaN          NaN              NaN  NaN       NaN          NaN   \n",
      "1117059        NaN          NaN              NaN  NaN       NaN          NaN   \n",
      "1352689        NaN          NaN              NaN  NaN       NaN          NaN   \n",
      "1352690        NaN          NaN              NaN  NaN       NaN          NaN   \n",
      "1481103        NaN          NaN              NaN  NaN       NaN          NaN   \n",
      "1481104        NaN          NaN              NaN  NaN       NaN          NaN   \n",
      "1611877        NaN          NaN              NaN  NaN       NaN          NaN   \n",
      "1611878        NaN          NaN              NaN  NaN       NaN          NaN   \n",
      "1651665        NaN          NaN              NaN  NaN       NaN          NaN   \n",
      "1654415        NaN          NaN              NaN  NaN       NaN          NaN   \n",
      "1654416        NaN          NaN              NaN  NaN       NaN          NaN   \n",
      "1751196        NaN          NaN              NaN  NaN       NaN          NaN   \n",
      "1751197        NaN          NaN              NaN  NaN       NaN          NaN   \n",
      "1939379        NaN          NaN              NaN  NaN       NaN          NaN   \n",
      "1939380        NaN          NaN              NaN  NaN       NaN          NaN   \n",
      "2038501        NaN          NaN              NaN  NaN       NaN          NaN   \n",
      "2038502        NaN          NaN              NaN  NaN       NaN          NaN   \n",
      "2157151        NaN          NaN              NaN  NaN       NaN          NaN   \n",
      "2157152        NaN          NaN              NaN  NaN       NaN          NaN   \n",
      "2260699        NaN          NaN              NaN  NaN       NaN          NaN   \n",
      "2260700        NaN          NaN              NaN  NaN       NaN          NaN   \n",
      "\n",
      "        grade sub_grade  ... hardship_payoff_balance_amount  \\\n",
      "421096    NaN       NaN  ...                            NaN   \n",
      "528961    NaN       NaN  ...                            NaN   \n",
      "528962    NaN       NaN  ...                            NaN   \n",
      "651664    NaN       NaN  ...                            NaN   \n",
      "651665    NaN       NaN  ...                            NaN   \n",
      "749520    NaN       NaN  ...                            NaN   \n",
      "749521    NaN       NaN  ...                            NaN   \n",
      "877716    NaN       NaN  ...                            NaN   \n",
      "877717    NaN       NaN  ...                            NaN   \n",
      "983169    NaN       NaN  ...                            NaN   \n",
      "983170    NaN       NaN  ...                            NaN   \n",
      "1117058   NaN       NaN  ...                            NaN   \n",
      "1117059   NaN       NaN  ...                            NaN   \n",
      "1352689   NaN       NaN  ...                            NaN   \n",
      "1352690   NaN       NaN  ...                            NaN   \n",
      "1481103   NaN       NaN  ...                            NaN   \n",
      "1481104   NaN       NaN  ...                            NaN   \n",
      "1611877   NaN       NaN  ...                            NaN   \n",
      "1611878   NaN       NaN  ...                            NaN   \n",
      "1651665   NaN       NaN  ...                            NaN   \n",
      "1654415   NaN       NaN  ...                            NaN   \n",
      "1654416   NaN       NaN  ...                            NaN   \n",
      "1751196   NaN       NaN  ...                            NaN   \n",
      "1751197   NaN       NaN  ...                            NaN   \n",
      "1939379   NaN       NaN  ...                            NaN   \n",
      "1939380   NaN       NaN  ...                            NaN   \n",
      "2038501   NaN       NaN  ...                            NaN   \n",
      "2038502   NaN       NaN  ...                            NaN   \n",
      "2157151   NaN       NaN  ...                            NaN   \n",
      "2157152   NaN       NaN  ...                            NaN   \n",
      "2260699   NaN       NaN  ...                            NaN   \n",
      "2260700   NaN       NaN  ...                            NaN   \n",
      "\n",
      "        hardship_last_payment_amount disbursement_method  \\\n",
      "421096                           NaN                 NaN   \n",
      "528961                           NaN                 NaN   \n",
      "528962                           NaN                 NaN   \n",
      "651664                           NaN                 NaN   \n",
      "651665                           NaN                 NaN   \n",
      "749520                           NaN                 NaN   \n",
      "749521                           NaN                 NaN   \n",
      "877716                           NaN                 NaN   \n",
      "877717                           NaN                 NaN   \n",
      "983169                           NaN                 NaN   \n",
      "983170                           NaN                 NaN   \n",
      "1117058                          NaN                 NaN   \n",
      "1117059                          NaN                 NaN   \n",
      "1352689                          NaN                 NaN   \n",
      "1352690                          NaN                 NaN   \n",
      "1481103                          NaN                 NaN   \n",
      "1481104                          NaN                 NaN   \n",
      "1611877                          NaN                 NaN   \n",
      "1611878                          NaN                 NaN   \n",
      "1651665                          NaN                 NaN   \n",
      "1654415                          NaN                 NaN   \n",
      "1654416                          NaN                 NaN   \n",
      "1751196                          NaN                 NaN   \n",
      "1751197                          NaN                 NaN   \n",
      "1939379                          NaN                 NaN   \n",
      "1939380                          NaN                 NaN   \n",
      "2038501                          NaN                 NaN   \n",
      "2038502                          NaN                 NaN   \n",
      "2157151                          NaN                 NaN   \n",
      "2157152                          NaN                 NaN   \n",
      "2260699                          NaN                 NaN   \n",
      "2260700                          NaN                 NaN   \n",
      "\n",
      "         debt_settlement_flag debt_settlement_flag_date settlement_status  \\\n",
      "421096                    NaN                       NaT               NaN   \n",
      "528961                    NaN                       NaT               NaN   \n",
      "528962                    NaN                       NaT               NaN   \n",
      "651664                    NaN                       NaT               NaN   \n",
      "651665                    NaN                       NaT               NaN   \n",
      "749520                    NaN                       NaT               NaN   \n",
      "749521                    NaN                       NaT               NaN   \n",
      "877716                    NaN                       NaT               NaN   \n",
      "877717                    NaN                       NaT               NaN   \n",
      "983169                    NaN                       NaT               NaN   \n",
      "983170                    NaN                       NaT               NaN   \n",
      "1117058                   NaN                       NaT               NaN   \n",
      "1117059                   NaN                       NaT               NaN   \n",
      "1352689                   NaN                       NaT               NaN   \n",
      "1352690                   NaN                       NaT               NaN   \n",
      "1481103                   NaN                       NaT               NaN   \n",
      "1481104                   NaN                       NaT               NaN   \n",
      "1611877                   NaN                       NaT               NaN   \n",
      "1611878                   NaN                       NaT               NaN   \n",
      "1651665                   NaN                       NaT               NaN   \n",
      "1654415                   NaN                       NaT               NaN   \n",
      "1654416                   NaN                       NaT               NaN   \n",
      "1751196                   NaN                       NaT               NaN   \n",
      "1751197                   NaN                       NaT               NaN   \n",
      "1939379                   NaN                       NaT               NaN   \n",
      "1939380                   NaN                       NaT               NaN   \n",
      "2038501                   NaN                       NaT               NaN   \n",
      "2038502                   NaN                       NaT               NaN   \n",
      "2157151                   NaN                       NaT               NaN   \n",
      "2157152                   NaN                       NaT               NaN   \n",
      "2260699                   NaN                       NaT               NaN   \n",
      "2260700                   NaN                       NaT               NaN   \n",
      "\n",
      "        settlement_date settlement_amount settlement_percentage  \\\n",
      "421096              NaT               NaN                   NaN   \n",
      "528961              NaT               NaN                   NaN   \n",
      "528962              NaT               NaN                   NaN   \n",
      "651664              NaT               NaN                   NaN   \n",
      "651665              NaT               NaN                   NaN   \n",
      "749520              NaT               NaN                   NaN   \n",
      "749521              NaT               NaN                   NaN   \n",
      "877716              NaT               NaN                   NaN   \n",
      "877717              NaT               NaN                   NaN   \n",
      "983169              NaT               NaN                   NaN   \n",
      "983170              NaT               NaN                   NaN   \n",
      "1117058             NaT               NaN                   NaN   \n",
      "1117059             NaT               NaN                   NaN   \n",
      "1352689             NaT               NaN                   NaN   \n",
      "1352690             NaT               NaN                   NaN   \n",
      "1481103             NaT               NaN                   NaN   \n",
      "1481104             NaT               NaN                   NaN   \n",
      "1611877             NaT               NaN                   NaN   \n",
      "1611878             NaT               NaN                   NaN   \n",
      "1651665             NaT               NaN                   NaN   \n",
      "1654415             NaT               NaN                   NaN   \n",
      "1654416             NaT               NaN                   NaN   \n",
      "1751196             NaT               NaN                   NaN   \n",
      "1751197             NaT               NaN                   NaN   \n",
      "1939379             NaT               NaN                   NaN   \n",
      "1939380             NaT               NaN                   NaN   \n",
      "2038501             NaT               NaN                   NaN   \n",
      "2038502             NaT               NaN                   NaN   \n",
      "2157151             NaT               NaN                   NaN   \n",
      "2157152             NaT               NaN                   NaN   \n",
      "2260699             NaT               NaN                   NaN   \n",
      "2260700             NaT               NaN                   NaN   \n",
      "\n",
      "        settlement_term  \n",
      "421096              NaN  \n",
      "528961              NaN  \n",
      "528962              NaN  \n",
      "651664              NaN  \n",
      "651665              NaN  \n",
      "749520              NaN  \n",
      "749521              NaN  \n",
      "877716              NaN  \n",
      "877717              NaN  \n",
      "983169              NaN  \n",
      "983170              NaN  \n",
      "1117058             NaN  \n",
      "1117059             NaN  \n",
      "1352689             NaN  \n",
      "1352690             NaN  \n",
      "1481103             NaN  \n",
      "1481104             NaN  \n",
      "1611877             NaN  \n",
      "1611878             NaN  \n",
      "1651665             NaN  \n",
      "1654415             NaN  \n",
      "1654416             NaN  \n",
      "1751196             NaN  \n",
      "1751197             NaN  \n",
      "1939379             NaN  \n",
      "1939380             NaN  \n",
      "2038501             NaN  \n",
      "2038502             NaN  \n",
      "2157151             NaN  \n",
      "2157152             NaN  \n",
      "2260699             NaN  \n",
      "2260700             NaN  \n",
      "\n",
      "[32 rows x 151 columns]\n"
     ]
    }
   ],
   "source": [
    "# Identify non-empty rows in other columns associated with non-int rows in 'id'\n",
    "\n",
    "# Step 1 - Identify Non-int rows\n",
    "non_int_rows = accepted_df_copy[~accepted_df_copy['id'].apply(lambda row: str(row).isdigit())] #32 rows\n",
    "\n",
    "print(non_int_rows)"
   ]
  },
  {
   "cell_type": "code",
   "execution_count": null,
   "id": "2f444f9a",
   "metadata": {},
   "outputs": [],
   "source": [
    "# Step 2 - Check if rows in other columns associated with non-int rows are also empty so we don't drop\n",
    "# important information\n",
    "\n",
    "empty_columns_check = non_int_rows.drop(columns = 'id').isna().all(axis = 1)\n",
    "\n",
    "print(empty_columns_check)"
   ]
  },
  {
   "cell_type": "code",
   "execution_count": 242,
   "id": "c99fbb38",
   "metadata": {},
   "outputs": [
    {
     "name": "stdout",
     "output_type": "stream",
     "text": [
      "Index(['title'], dtype='object')\n"
     ]
    }
   ],
   "source": [
    "# Step 3 - Idetify which columns associated with the non-int rows in 'id' column are not empty\n",
    "\n",
    "columns_not_empty = non_int_rows.drop(columns = 'id').columns[non_int_rows.drop(columns = 'id').notna().any()]\n",
    "\n",
    "print(columns_not_empty)"
   ]
  },
  {
   "cell_type": "code",
   "execution_count": 244,
   "id": "4eaf4dd5",
   "metadata": {},
   "outputs": [
    {
     "data": {
      "text/html": [
       "<div>\n",
       "<style scoped>\n",
       "    .dataframe tbody tr th:only-of-type {\n",
       "        vertical-align: middle;\n",
       "    }\n",
       "\n",
       "    .dataframe tbody tr th {\n",
       "        vertical-align: top;\n",
       "    }\n",
       "\n",
       "    .dataframe thead th {\n",
       "        text-align: right;\n",
       "    }\n",
       "</style>\n",
       "<table border=\"1\" class=\"dataframe\">\n",
       "  <thead>\n",
       "    <tr style=\"text-align: right;\">\n",
       "      <th></th>\n",
       "      <th>id</th>\n",
       "      <th>title</th>\n",
       "    </tr>\n",
       "  </thead>\n",
       "  <tbody>\n",
       "    <tr>\n",
       "      <th>421096</th>\n",
       "      <td>Total amount funded in policy code 2: 1944088810</td>\n",
       "      <td>unknown</td>\n",
       "    </tr>\n",
       "    <tr>\n",
       "      <th>528961</th>\n",
       "      <td>Total amount funded in policy code 1: 1741781700</td>\n",
       "      <td>unknown</td>\n",
       "    </tr>\n",
       "    <tr>\n",
       "      <th>528962</th>\n",
       "      <td>Total amount funded in policy code 2: 564202131</td>\n",
       "      <td>unknown</td>\n",
       "    </tr>\n",
       "    <tr>\n",
       "      <th>651664</th>\n",
       "      <td>Total amount funded in policy code 1: 1791201400</td>\n",
       "      <td>unknown</td>\n",
       "    </tr>\n",
       "    <tr>\n",
       "      <th>651665</th>\n",
       "      <td>Total amount funded in policy code 2: 651669342</td>\n",
       "      <td>unknown</td>\n",
       "    </tr>\n",
       "    <tr>\n",
       "      <th>749520</th>\n",
       "      <td>Total amount funded in policy code 1: 1443412975</td>\n",
       "      <td>unknown</td>\n",
       "    </tr>\n",
       "    <tr>\n",
       "      <th>749521</th>\n",
       "      <td>Total amount funded in policy code 2: 511988838</td>\n",
       "      <td>unknown</td>\n",
       "    </tr>\n",
       "    <tr>\n",
       "      <th>877716</th>\n",
       "      <td>Total amount funded in policy code 1: 2063142975</td>\n",
       "      <td>unknown</td>\n",
       "    </tr>\n",
       "    <tr>\n",
       "      <th>877717</th>\n",
       "      <td>Total amount funded in policy code 2: 823319310</td>\n",
       "      <td>unknown</td>\n",
       "    </tr>\n",
       "    <tr>\n",
       "      <th>983169</th>\n",
       "      <td>Total amount funded in policy code 1: 1538432075</td>\n",
       "      <td>unknown</td>\n",
       "    </tr>\n",
       "    <tr>\n",
       "      <th>983170</th>\n",
       "      <td>Total amount funded in policy code 2: 608903141</td>\n",
       "      <td>unknown</td>\n",
       "    </tr>\n",
       "    <tr>\n",
       "      <th>1117058</th>\n",
       "      <td>Total amount funded in policy code 1: 2087217200</td>\n",
       "      <td>unknown</td>\n",
       "    </tr>\n",
       "    <tr>\n",
       "      <th>1117059</th>\n",
       "      <td>Total amount funded in policy code 2: 662815446</td>\n",
       "      <td>unknown</td>\n",
       "    </tr>\n",
       "    <tr>\n",
       "      <th>1352689</th>\n",
       "      <td>Total amount funded in policy code 1: 3503840175</td>\n",
       "      <td>unknown</td>\n",
       "    </tr>\n",
       "    <tr>\n",
       "      <th>1352690</th>\n",
       "      <td>Total amount funded in policy code 2: 873652739</td>\n",
       "      <td>unknown</td>\n",
       "    </tr>\n",
       "    <tr>\n",
       "      <th>1481103</th>\n",
       "      <td>Total amount funded in policy code 1: 2050909275</td>\n",
       "      <td>unknown</td>\n",
       "    </tr>\n",
       "    <tr>\n",
       "      <th>1481104</th>\n",
       "      <td>Total amount funded in policy code 2: 820109297</td>\n",
       "      <td>unknown</td>\n",
       "    </tr>\n",
       "    <tr>\n",
       "      <th>1611877</th>\n",
       "      <td>Total amount funded in policy code 1: 2080429200</td>\n",
       "      <td>unknown</td>\n",
       "    </tr>\n",
       "    <tr>\n",
       "      <th>1611878</th>\n",
       "      <td>Total amount funded in policy code 2: 737901574</td>\n",
       "      <td>unknown</td>\n",
       "    </tr>\n",
       "    <tr>\n",
       "      <th>1651665</th>\n",
       "      <td>Loans that do not meet the credit policy</td>\n",
       "      <td>unknown</td>\n",
       "    </tr>\n",
       "    <tr>\n",
       "      <th>1654415</th>\n",
       "      <td>Total amount funded in policy code 1: 460296150</td>\n",
       "      <td>unknown</td>\n",
       "    </tr>\n",
       "    <tr>\n",
       "      <th>1654416</th>\n",
       "      <td>Total amount funded in policy code 2: 0</td>\n",
       "      <td>unknown</td>\n",
       "    </tr>\n",
       "    <tr>\n",
       "      <th>1751196</th>\n",
       "      <td>Total amount funded in policy code 1: 1437969475</td>\n",
       "      <td>unknown</td>\n",
       "    </tr>\n",
       "    <tr>\n",
       "      <th>1751197</th>\n",
       "      <td>Total amount funded in policy code 2: 520780182</td>\n",
       "      <td>unknown</td>\n",
       "    </tr>\n",
       "    <tr>\n",
       "      <th>1939379</th>\n",
       "      <td>Total amount funded in policy code 1: 2700702175</td>\n",
       "      <td>unknown</td>\n",
       "    </tr>\n",
       "    <tr>\n",
       "      <th>1939380</th>\n",
       "      <td>Total amount funded in policy code 2: 81866225</td>\n",
       "      <td>unknown</td>\n",
       "    </tr>\n",
       "    <tr>\n",
       "      <th>2038501</th>\n",
       "      <td>Total amount funded in policy code 1: 1404586950</td>\n",
       "      <td>unknown</td>\n",
       "    </tr>\n",
       "    <tr>\n",
       "      <th>2038502</th>\n",
       "      <td>Total amount funded in policy code 2: 567447023</td>\n",
       "      <td>unknown</td>\n",
       "    </tr>\n",
       "    <tr>\n",
       "      <th>2157151</th>\n",
       "      <td>Total amount funded in policy code 1: 1817354125</td>\n",
       "      <td>unknown</td>\n",
       "    </tr>\n",
       "    <tr>\n",
       "      <th>2157152</th>\n",
       "      <td>Total amount funded in policy code 2: 620899600</td>\n",
       "      <td>unknown</td>\n",
       "    </tr>\n",
       "    <tr>\n",
       "      <th>2260699</th>\n",
       "      <td>Total amount funded in policy code 1: 1465324575</td>\n",
       "      <td>unknown</td>\n",
       "    </tr>\n",
       "    <tr>\n",
       "      <th>2260700</th>\n",
       "      <td>Total amount funded in policy code 2: 521953170</td>\n",
       "      <td>unknown</td>\n",
       "    </tr>\n",
       "  </tbody>\n",
       "</table>\n",
       "</div>"
      ],
      "text/plain": [
       "                                                       id    title\n",
       "421096   Total amount funded in policy code 2: 1944088810  unknown\n",
       "528961   Total amount funded in policy code 1: 1741781700  unknown\n",
       "528962    Total amount funded in policy code 2: 564202131  unknown\n",
       "651664   Total amount funded in policy code 1: 1791201400  unknown\n",
       "651665    Total amount funded in policy code 2: 651669342  unknown\n",
       "749520   Total amount funded in policy code 1: 1443412975  unknown\n",
       "749521    Total amount funded in policy code 2: 511988838  unknown\n",
       "877716   Total amount funded in policy code 1: 2063142975  unknown\n",
       "877717    Total amount funded in policy code 2: 823319310  unknown\n",
       "983169   Total amount funded in policy code 1: 1538432075  unknown\n",
       "983170    Total amount funded in policy code 2: 608903141  unknown\n",
       "1117058  Total amount funded in policy code 1: 2087217200  unknown\n",
       "1117059   Total amount funded in policy code 2: 662815446  unknown\n",
       "1352689  Total amount funded in policy code 1: 3503840175  unknown\n",
       "1352690   Total amount funded in policy code 2: 873652739  unknown\n",
       "1481103  Total amount funded in policy code 1: 2050909275  unknown\n",
       "1481104   Total amount funded in policy code 2: 820109297  unknown\n",
       "1611877  Total amount funded in policy code 1: 2080429200  unknown\n",
       "1611878   Total amount funded in policy code 2: 737901574  unknown\n",
       "1651665          Loans that do not meet the credit policy  unknown\n",
       "1654415   Total amount funded in policy code 1: 460296150  unknown\n",
       "1654416           Total amount funded in policy code 2: 0  unknown\n",
       "1751196  Total amount funded in policy code 1: 1437969475  unknown\n",
       "1751197   Total amount funded in policy code 2: 520780182  unknown\n",
       "1939379  Total amount funded in policy code 1: 2700702175  unknown\n",
       "1939380    Total amount funded in policy code 2: 81866225  unknown\n",
       "2038501  Total amount funded in policy code 1: 1404586950  unknown\n",
       "2038502   Total amount funded in policy code 2: 567447023  unknown\n",
       "2157151  Total amount funded in policy code 1: 1817354125  unknown\n",
       "2157152   Total amount funded in policy code 2: 620899600  unknown\n",
       "2260699  Total amount funded in policy code 1: 1465324575  unknown\n",
       "2260700   Total amount funded in policy code 2: 521953170  unknown"
      ]
     },
     "execution_count": 244,
     "metadata": {},
     "output_type": "execute_result"
    }
   ],
   "source": [
    "non_int_rows[['id', columns_not_empty[0]]]"
   ]
  },
  {
   "cell_type": "code",
   "execution_count": 259,
   "id": "4d10d262",
   "metadata": {},
   "outputs": [
    {
     "name": "stdout",
     "output_type": "stream",
     "text": [
      "accepted_df shape before removing rows: (2260700, 151)\n",
      "\n",
      "Index([ 421096,  528961,  528962,  651664,  651665,  749520,  749521,  877716,\n",
      "        877717,  983169,  983170, 1117058, 1117059, 1352689, 1352690, 1481103,\n",
      "       1481104, 1611877, 1611878, 1651665, 1654415, 1654416, 1751196, 1751197,\n",
      "       1939379, 1939380, 2038501, 2038502, 2157151, 2157152, 2260699, 2260700],\n",
      "      dtype='int64')\n",
      "32 rows to remove\n",
      "\n",
      "\n",
      "32 successfully dropped\n",
      "\n",
      "\n",
      "accepted_df shape after removing rows: (2260668, 151)\n"
     ]
    }
   ],
   "source": [
    "# Drop all non-int rows in id colums\n",
    "\n",
    "#Get shape of accepted_df Dataframe before dropping rows\n",
    "print('accepted_df shape before removing rows:', accepted_df_copy.shape)\n",
    "\n",
    "\n",
    "# Step 1 - Get index of non-int rows in 'id' column to drop\n",
    "nonint_rows_todrop = non_int_rows.index\n",
    "\n",
    "print()\n",
    "print(nonint_rows_todrop)\n",
    "print(len(nonint_rows_todrop), 'rows to remove\\n\\n')\n",
    "\n",
    "# Step 2 - remove non-int rows in 'id' column from accepted_df_copy\n",
    "\n",
    "accepted_df_copy = accepted_df_copy.drop(index = nonint_rows_todrop)\n",
    "print(len(nonint_rows_todrop), 'successfully dropped\\n\\n')\n",
    "\n",
    "# Step 3 - Check accepted_df shape to confirm if 32 rows were dropped\n",
    "\n",
    "print('accepted_df shape after removing rows:', accepted_df_copy.shape)\n"
   ]
  },
  {
   "cell_type": "code",
   "execution_count": 261,
   "id": "4466306a",
   "metadata": {},
   "outputs": [
    {
     "data": {
      "text/html": [
       "<div>\n",
       "<style scoped>\n",
       "    .dataframe tbody tr th:only-of-type {\n",
       "        vertical-align: middle;\n",
       "    }\n",
       "\n",
       "    .dataframe tbody tr th {\n",
       "        vertical-align: top;\n",
       "    }\n",
       "\n",
       "    .dataframe thead th {\n",
       "        text-align: right;\n",
       "    }\n",
       "</style>\n",
       "<table border=\"1\" class=\"dataframe\">\n",
       "  <thead>\n",
       "    <tr style=\"text-align: right;\">\n",
       "      <th></th>\n",
       "      <th>id</th>\n",
       "      <th>member_id</th>\n",
       "      <th>loan_amnt</th>\n",
       "      <th>funded_amnt</th>\n",
       "      <th>funded_amnt_inv</th>\n",
       "      <th>term</th>\n",
       "      <th>int_rate</th>\n",
       "      <th>installment</th>\n",
       "      <th>grade</th>\n",
       "      <th>sub_grade</th>\n",
       "      <th>...</th>\n",
       "      <th>hardship_payoff_balance_amount</th>\n",
       "      <th>hardship_last_payment_amount</th>\n",
       "      <th>disbursement_method</th>\n",
       "      <th>debt_settlement_flag</th>\n",
       "      <th>debt_settlement_flag_date</th>\n",
       "      <th>settlement_status</th>\n",
       "      <th>settlement_date</th>\n",
       "      <th>settlement_amount</th>\n",
       "      <th>settlement_percentage</th>\n",
       "      <th>settlement_term</th>\n",
       "    </tr>\n",
       "  </thead>\n",
       "  <tbody>\n",
       "  </tbody>\n",
       "</table>\n",
       "<p>0 rows × 151 columns</p>\n",
       "</div>"
      ],
      "text/plain": [
       "Empty DataFrame\n",
       "Columns: [id, member_id, loan_amnt, funded_amnt, funded_amnt_inv, term, int_rate, installment, grade, sub_grade, emp_title, emp_length, home_ownership, annual_inc, verification_status, issue_d, loan_status, pymnt_plan, url, desc, purpose, title, zip_code, addr_state, dti, delinq_2yrs, earliest_cr_line, fico_range_low, fico_range_high, inq_last_6mths, mths_since_last_delinq, mths_since_last_record, open_acc, pub_rec, revol_bal, revol_util, total_acc, initial_list_status, out_prncp, out_prncp_inv, total_pymnt, total_pymnt_inv, total_rec_prncp, total_rec_int, total_rec_late_fee, recoveries, collection_recovery_fee, last_pymnt_d, last_pymnt_amnt, next_pymnt_d, last_credit_pull_d, last_fico_range_high, last_fico_range_low, collections_12_mths_ex_med, mths_since_last_major_derog, policy_code, application_type, annual_inc_joint, dti_joint, verification_status_joint, acc_now_delinq, tot_coll_amt, tot_cur_bal, open_acc_6m, open_act_il, open_il_12m, open_il_24m, mths_since_rcnt_il, total_bal_il, il_util, open_rv_12m, open_rv_24m, max_bal_bc, all_util, total_rev_hi_lim, inq_fi, total_cu_tl, inq_last_12m, acc_open_past_24mths, avg_cur_bal, bc_open_to_buy, bc_util, chargeoff_within_12_mths, delinq_amnt, mo_sin_old_il_acct, mo_sin_old_rev_tl_op, mo_sin_rcnt_rev_tl_op, mo_sin_rcnt_tl, mort_acc, mths_since_recent_bc, mths_since_recent_bc_dlq, mths_since_recent_inq, mths_since_recent_revol_delinq, num_accts_ever_120_pd, num_actv_bc_tl, num_actv_rev_tl, num_bc_sats, num_bc_tl, num_il_tl, num_op_rev_tl, ...]\n",
       "Index: []\n",
       "\n",
       "[0 rows x 151 columns]"
      ]
     },
     "execution_count": 261,
     "metadata": {},
     "output_type": "execute_result"
    }
   ],
   "source": [
    "# Check if we still have non-int rows in 'id' column\n",
    "\n",
    "accepted_df_copy[~accepted_df_copy['id'].apply(lambda row: str(row).isdigit())] - #Should return an empty DF"
   ]
  },
  {
   "cell_type": "code",
   "execution_count": 262,
   "id": "7cad34e2",
   "metadata": {},
   "outputs": [],
   "source": [
    "# Soooo now we can finally Convert 'id' column to integer and it should work fingers crossed\n",
    "accepted_df_copy['id'] = accepted_df_copy['id'].astype(int)"
   ]
  },
  {
   "cell_type": "code",
   "execution_count": 264,
   "id": "6ed3746e",
   "metadata": {},
   "outputs": [
    {
     "name": "stdout",
     "output_type": "stream",
     "text": [
      "<class 'pandas.core.series.Series'>\n",
      "Index: 2260668 entries, 0 to 2260698\n",
      "Series name: id\n",
      "Non-Null Count    Dtype\n",
      "--------------    -----\n",
      "2260668 non-null  int64\n",
      "dtypes: int64(1)\n",
      "memory usage: 34.5 MB\n"
     ]
    }
   ],
   "source": [
    "accepted_df_copy['id'].info()"
   ]
  },
  {
   "cell_type": "markdown",
   "id": "bfbf31f6",
   "metadata": {},
   "source": [
    "### Check for other variables of type 'object' so we can convert to the right type if necessary"
   ]
  },
  {
   "cell_type": "code",
   "execution_count": 389,
   "id": "20e725ee",
   "metadata": {},
   "outputs": [
    {
     "name": "stdout",
     "output_type": "stream",
     "text": [
      "                     variable    type\n",
      "18               loan_purpose  object\n",
      "21                   zip_code  object\n",
      "58  verification_status_joint  object\n"
     ]
    }
   ],
   "source": [
    "#Get data types of all variables and convert it to a DataFrame\n",
    "new_data_types = pd.DataFrame(accepted_df_copy.dtypes)\n",
    "\n",
    "# Reset index of Dataframe\n",
    "new_data_types = new_data_types.reset_index()\n",
    "\n",
    "#define column names\n",
    "new_data_types.columns = ['variable', 'type']\n",
    "\n",
    "#Get variables that are type 'object'\n",
    "object_vars = new_data_types[new_data_types['type'] == 'object']\n",
    "\n",
    "#Get all types\n",
    "new_data_types['type'] = new_data_types['type'].astype('category')\n",
    "\n",
    "print(object_vars)\n"
   ]
  },
  {
   "cell_type": "code",
   "execution_count": 288,
   "id": "78cc1e36",
   "metadata": {},
   "outputs": [
    {
     "name": "stdout",
     "output_type": "stream",
     "text": [
      "Index([         int64,        float64,       category,       category,\n",
      "             category,         object,       category,       category,\n",
      "             category, datetime64[ns],       category,       category,\n",
      "             category,       category,       category,       category,\n",
      "             category,       category,       category,       category,\n",
      "             category,       category,       category],\n",
      "      dtype='object')\n"
     ]
    }
   ],
   "source": [
    "print(new_data_types['type'].cat.categories)"
   ]
  },
  {
   "cell_type": "markdown",
   "id": "4e189035",
   "metadata": {},
   "source": [
    "### Convert emp_title to categorical variable and remove leading whitespaces from category names"
   ]
  },
  {
   "cell_type": "code",
   "execution_count": 300,
   "id": "3e065224",
   "metadata": {},
   "outputs": [
    {
     "data": {
      "text/plain": [
       "Index(['\\tCFO', '\\tMultimedia Supervisor', '\\tSlot technician',\n",
       "       '\\tVP - Operations', ' ', ' \\tASR II', ' \\tAdv Mtr Proj Fld Rep',\n",
       "       ' \\tAuto Body Repair', ' \\tDriver', ' \\tEmployee Strategies Manager',\n",
       "       ...\n",
       "       'zueck transportation', 'zulily', '{Owner}Truck Driver',\n",
       "       '| Principal Business Solution Architect|',\n",
       "       'År.  Technical Illustrator', '​Associate Tech Support Analyst',\n",
       "       '​Financial Analyst', '​License Compliance Investigator',\n",
       "       '​Senior IT Field Support', '👨‍🍳 '],\n",
       "      dtype='object', length=512695)"
      ]
     },
     "execution_count": 300,
     "metadata": {},
     "output_type": "execute_result"
    }
   ],
   "source": [
    "# Convert emp_title to category or leave as oject\n",
    "\n",
    "accepted_df_copy['emp_title'] = accepted_df_copy['emp_title'].astype('category')\n",
    "\n",
    "#Check type of emp_title\n",
    "accepted_df_copy['emp_title'].cat.categories"
   ]
  },
  {
   "cell_type": "code",
   "execution_count": 390,
   "id": "40a504d9",
   "metadata": {},
   "outputs": [
    {
     "data": {
      "text/plain": [
       "CategoricalDtype(categories=['', '!st Assistant Plumbing Manager',\n",
       "                  '!st Vice President/Wealth Advisor',\n",
       "                  '!st Year Apprentice Inside Wireman', '\"A\" Material  Bonder',\n",
       "                  '\"A\" Mechanic', '\"A\" Repairman', '\"A\" bonder',\n",
       "                  '\"B\" Toolmaker', '\"C\" Operator',\n",
       "                  ...\n",
       "                  'zueck transportation', 'zulily', '{Owner}Truck Driver',\n",
       "                  '| Principal Business Solution Architect|',\n",
       "                  'År.  Technical Illustrator',\n",
       "                  '​Associate Tech Support Analyst', '​Financial Analyst',\n",
       "                  '​License Compliance Investigator',\n",
       "                  '​Senior IT Field Support', '👨‍🍳'],\n",
       ", ordered=False)"
      ]
     },
     "execution_count": 390,
     "metadata": {},
     "output_type": "execute_result"
    }
   ],
   "source": [
    "accepted_df_copy['emp_title'].dtype"
   ]
  },
  {
   "cell_type": "code",
   "execution_count": 309,
   "id": "640da7a0",
   "metadata": {},
   "outputs": [],
   "source": [
    "# Convert emp_title back to object type so we can remove \\t\n",
    "accepted_df_copy['emp_title'] = accepted_df_copy['emp_title'].astype(str)\n",
    "\n",
    "# Remove white spaces\n",
    "accepted_df_copy['emp_title'] = accepted_df_copy['emp_title'].str.strip()\n",
    "\n",
    "# Convert 'emp_title' column to category type\n",
    "accepted_df_copy['emp_title'] = accepted_df_copy['emp_title'].astype('category')\n",
    "\n",
    "# Category types\n",
    "categories = accepted_df_copy['emp_title'].cat.categories\n",
    "\n",
    "#Save as csv\n",
    "\n",
    "file_path = '/Users/abubakaral-faki/Documents/Data Project/MPV1/temp_files/emp_title_categories.csv'\n",
    "\n",
    "pd.DataFrame({'job_titles':categories}).to_csv(file_path, index = False)"
   ]
  },
  {
   "cell_type": "markdown",
   "id": "a6409827",
   "metadata": {},
   "source": [
    "### Change 'url' column to the right datatype or drop it if not needed"
   ]
  },
  {
   "cell_type": "code",
   "execution_count": 318,
   "id": "6ab3970a",
   "metadata": {},
   "outputs": [
    {
     "data": {
      "text/html": [
       "<div>\n",
       "<style scoped>\n",
       "    .dataframe tbody tr th:only-of-type {\n",
       "        vertical-align: middle;\n",
       "    }\n",
       "\n",
       "    .dataframe tbody tr th {\n",
       "        vertical-align: top;\n",
       "    }\n",
       "\n",
       "    .dataframe thead th {\n",
       "        text-align: right;\n",
       "    }\n",
       "</style>\n",
       "<table border=\"1\" class=\"dataframe\">\n",
       "  <thead>\n",
       "    <tr style=\"text-align: right;\">\n",
       "      <th></th>\n",
       "      <th>id</th>\n",
       "      <th>url</th>\n",
       "    </tr>\n",
       "  </thead>\n",
       "  <tbody>\n",
       "    <tr>\n",
       "      <th>0</th>\n",
       "      <td>68407277</td>\n",
       "      <td>https://lendingclub.com/browse/loanDetail.action?loan_id=68407277</td>\n",
       "    </tr>\n",
       "    <tr>\n",
       "      <th>1</th>\n",
       "      <td>68355089</td>\n",
       "      <td>https://lendingclub.com/browse/loanDetail.action?loan_id=68355089</td>\n",
       "    </tr>\n",
       "    <tr>\n",
       "      <th>2</th>\n",
       "      <td>68341763</td>\n",
       "      <td>https://lendingclub.com/browse/loanDetail.action?loan_id=68341763</td>\n",
       "    </tr>\n",
       "    <tr>\n",
       "      <th>3</th>\n",
       "      <td>66310712</td>\n",
       "      <td>https://lendingclub.com/browse/loanDetail.action?loan_id=66310712</td>\n",
       "    </tr>\n",
       "    <tr>\n",
       "      <th>4</th>\n",
       "      <td>68476807</td>\n",
       "      <td>https://lendingclub.com/browse/loanDetail.action?loan_id=68476807</td>\n",
       "    </tr>\n",
       "  </tbody>\n",
       "</table>\n",
       "</div>"
      ],
      "text/plain": [
       "         id                                                                url\n",
       "0  68407277  https://lendingclub.com/browse/loanDetail.action?loan_id=68407277\n",
       "1  68355089  https://lendingclub.com/browse/loanDetail.action?loan_id=68355089\n",
       "2  68341763  https://lendingclub.com/browse/loanDetail.action?loan_id=68341763\n",
       "3  66310712  https://lendingclub.com/browse/loanDetail.action?loan_id=66310712\n",
       "4  68476807  https://lendingclub.com/browse/loanDetail.action?loan_id=68476807"
      ]
     },
     "execution_count": 318,
     "metadata": {},
     "output_type": "execute_result"
    }
   ],
   "source": [
    "#Inspect url Column\n",
    "pd.set_option('display.max_colwidth', None) #make sure pandas doesn't truncate the url column\n",
    "\n",
    "\n",
    "accepted_df_copy[['id', 'url']].head(5)"
   ]
  },
  {
   "cell_type": "markdown",
   "id": "19ad7cbe",
   "metadata": {},
   "source": [
    "Seems like the 'url' gets info for each specific 'id'. \n",
    "\n",
    "Let's check if the id from the id column matches the id in\n",
    "in the url"
   ]
  },
  {
   "cell_type": "code",
   "execution_count": 319,
   "id": "9204441b",
   "metadata": {},
   "outputs": [],
   "source": [
    "# Extract the loan_id from the url using a regular expression\n",
    "extracted_id = accepted_df_copy['url'].str.extract(r'loan_id=(\\d+)')"
   ]
  },
  {
   "cell_type": "code",
   "execution_count": 335,
   "id": "561c14f5",
   "metadata": {},
   "outputs": [
    {
     "name": "stdout",
     "output_type": "stream",
     "text": [
      "          0\n",
      "0  68407277\n",
      "1  68355089\n",
      "2  68341763\n",
      "3  66310712\n",
      "4  68476807\n",
      "<class 'pandas.core.series.Series'>\n"
     ]
    }
   ],
   "source": [
    "#Check if the id was extracted correctly from the url\n",
    "print(extracted_id.head())\n",
    "\n",
    "# Check type of extracted_id\n",
    "print(type(extracted_id[0]))"
   ]
  },
  {
   "cell_type": "markdown",
   "id": "b40a0e35",
   "metadata": {},
   "source": [
    "#### Convert extracted_id to same datatype as 'id'\n"
   ]
  },
  {
   "cell_type": "code",
   "execution_count": 325,
   "id": "e0f9ddd6",
   "metadata": {},
   "outputs": [
    {
     "name": "stdout",
     "output_type": "stream",
     "text": [
      "Type of 'id' column is int64\n",
      "Type of 'extracted_id' is int64\n"
     ]
    }
   ],
   "source": [
    "#Check dtype of id column\n",
    "print('Type of \\'id\\' column is', accepted_df_copy['id'].dtype)\n",
    "\n",
    "#Change dtype of extracted_id columns to 'int'\n",
    "extracted_id[0] = extracted_id[0].astype('int')\n",
    "\n",
    "#Check dtype of extracted_id column\n",
    "print('Type of \\'extracted_id\\' is', extracted_id[0].dtype)"
   ]
  },
  {
   "cell_type": "code",
   "execution_count": 330,
   "id": "da13f73a",
   "metadata": {},
   "outputs": [
    {
     "name": "stdout",
     "output_type": "stream",
     "text": [
      "True\n"
     ]
    }
   ],
   "source": [
    "#Check if all id's between 'extracted_id' column and 'id' column match\n",
    "\n",
    "all_match = (accepted_df_copy['id'] == extracted_id[0]).all()\n",
    "\n",
    "print(all_match)"
   ]
  },
  {
   "cell_type": "markdown",
   "id": "e4dfa958",
   "metadata": {},
   "source": [
    "#### We can drop url column since there no mismatches"
   ]
  },
  {
   "cell_type": "code",
   "execution_count": null,
   "id": "27b38b58",
   "metadata": {},
   "outputs": [],
   "source": [
    "# Shape before dropping 'url'\n",
    "print('Shape before drop: ', accepted_df_copy.shape)"
   ]
  },
  {
   "cell_type": "code",
   "execution_count": 341,
   "id": "874e0344",
   "metadata": {},
   "outputs": [],
   "source": [
    "# Drop 'url' column\n",
    "accepted_df_copy = accepted_df_copy.drop('url', axis = 1)"
   ]
  },
  {
   "cell_type": "code",
   "execution_count": 342,
   "id": "c6ed5b88",
   "metadata": {},
   "outputs": [
    {
     "data": {
      "text/plain": [
       "(2260668, 150)"
      ]
     },
     "execution_count": 342,
     "metadata": {},
     "output_type": "execute_result"
    }
   ],
   "source": [
    "# Shape after dropping 'url'\n",
    "print('Shape after drop: ', accepted_df_copy.shape)"
   ]
  },
  {
   "cell_type": "markdown",
   "id": "606e8229",
   "metadata": {},
   "source": [
    "### Inspect 'desc' column and change 'desc' column to the right datatype if needed"
   ]
  },
  {
   "cell_type": "markdown",
   "id": "1c4af9b4",
   "metadata": {},
   "source": [
    "'desc' contains information about the loan description wriiten by the borrower."
   ]
  },
  {
   "cell_type": "code",
   "execution_count": 343,
   "id": "fb9e8ee2",
   "metadata": {},
   "outputs": [
    {
     "name": "stdout",
     "output_type": "stream",
     "text": [
      "0    NaN\n",
      "1    NaN\n",
      "2    NaN\n",
      "3    NaN\n",
      "4    NaN\n",
      "Name: desc, dtype: object\n",
      "object\n"
     ]
    }
   ],
   "source": [
    "print(accepted_df_copy['desc'].head())\n",
    "\n",
    "print(accepted_df_copy['desc'].dtype)\n"
   ]
  },
  {
   "cell_type": "markdown",
   "id": "d6ba4f14",
   "metadata": {},
   "source": [
    "#### Notes from code above\n",
    "From checking the data type of 'desc' and the first few rows it seems this column might be empty.\n",
    "\n",
    "'desc' contains information about the loan description form the borrower.\n",
    "\n",
    "We will rename this column to make it more intuitive to understand."
   ]
  },
  {
   "cell_type": "code",
   "execution_count": 345,
   "id": "b25d87ef",
   "metadata": {},
   "outputs": [
    {
     "name": "stdout",
     "output_type": "stream",
     "text": [
      "<class 'pandas.core.series.Series'>\n",
      "Index: 2260668 entries, 0 to 2260698\n",
      "Series name: desc\n",
      "Non-Null Count   Dtype \n",
      "--------------   ----- \n",
      "126065 non-null  object\n",
      "dtypes: object(1)\n",
      "memory usage: 99.0+ MB\n",
      "None\n"
     ]
    }
   ],
   "source": [
    "#Check if all values in the 'desc' column are all NaN\n",
    "\n",
    "print(accepted_df_copy['desc'].info()"
   ]
  },
  {
   "cell_type": "code",
   "execution_count": null,
   "id": "b968a54d",
   "metadata": {},
   "outputs": [],
   "source": [
    "#count nuber of Null Values in 'desc' column\n",
    "\n",
    "print(accepted_df_copy['desc'].isna().sum())"
   ]
  },
  {
   "cell_type": "code",
   "execution_count": 355,
   "id": "cbc16089",
   "metadata": {},
   "outputs": [],
   "source": [
    "#Change name of column 'desc' to 'loan_purpose'\n",
    "accepted_df_copy = accepted_df_copy.rename(columns = {'desc': 'loan_purpose'}) "
   ]
  },
  {
   "cell_type": "code",
   "execution_count": 393,
   "id": "8f6e7187",
   "metadata": {},
   "outputs": [
    {
     "name": "stdout",
     "output_type": "stream",
     "text": [
      "<class 'pandas.core.series.Series'>\n",
      "Index: 2260668 entries, 0 to 2260698\n",
      "Series name: loan_purpose\n",
      "Non-Null Count    Dtype \n",
      "--------------    ----- \n",
      "2260668 non-null  object\n",
      "dtypes: object(1)\n",
      "memory usage: 99.0+ MB\n"
     ]
    }
   ],
   "source": [
    "#Check if name change happened\n",
    "\n",
    "accepted_df_copy['loan_purpose'].info()"
   ]
  },
  {
   "cell_type": "code",
   "execution_count": 392,
   "id": "cff7c34c",
   "metadata": {},
   "outputs": [
    {
     "data": {
      "text/plain": [
       "2260694    nan\n",
       "2260695    nan\n",
       "2260696    nan\n",
       "2260697    nan\n",
       "2260698    nan\n",
       "Name: loan_purpose, dtype: object"
      ]
     },
     "execution_count": 392,
     "metadata": {},
     "output_type": "execute_result"
    }
   ],
   "source": [
    "accepted_df_copy['loan_purpose'].dropna()."
   ]
  },
  {
   "cell_type": "code",
   "execution_count": 396,
   "id": "30a841c9",
   "metadata": {},
   "outputs": [
    {
     "name": "stdout",
     "output_type": "stream",
     "text": [
      "0\n"
     ]
    }
   ],
   "source": [
    "#Check for missing values in 'desc'/'loan_purpose'\n",
    "print(accepted_df_copy['loan_purpose'].isna().sum())"
   ]
  },
  {
   "cell_type": "code",
   "execution_count": 394,
   "id": "d7fef201",
   "metadata": {},
   "outputs": [
    {
     "data": {
      "text/plain": [
       "array(['nan',\n",
       "       'We knew that using our credit cards to finance an adoption would squeeze us, but then medical and other unexpected expenses made the situation almost impossible. We are a stable family in a stable community. We just need to break a cycle of debt that is getting worse.',\n",
       "       \"I had a bad year two years ago, with some late and missed payments. I'm doing much better now, but I've got fees and some higher interest bits that have added up on top of the other stuff, and it's a little crazy. I'm hoping doing it thru Lending Club will make it easier - and cheaper - to pay off.\",\n",
       "       ...,\n",
       "       'This loan will be used solely to consolidate credit card debts accrued while wife was/is unemployed.',\n",
       "       'I have recently purchased and built a new home that I have always dreamed of having.  I would like to complete the project by putting a hottub in my backyard, however; I am not happy with the rate I  have been offered from GE to finance the spa.  I am paying cash for all other improvements, but this is the final phase and finishing touch to my happiness.  I am in the process of consolidating a lot of debt, and went through a minor period of financial woes, but through determination and hard work I have managed to rebound.  My income is fantastic, and I would pay cash for the item, but would like to reserve the money I have saved for future issues if they should arise.  I am a college graduate, responsible, and work for a very good company that is stable in this very unstable market.  I plan to repay this loan in less than 12 months with a 4th quarter bonus I will be receiving.  Thank you for your consideration.',\n",
       "       'To whom it may concern,     Hello, my name is David McLean.  I am requesting a loan to consolidate some high interest revolving credit.    The interest rates go anywhere from 14-29.9%.  I am a very reliable person that meets his obligations and pays his debts.   In nearly 15 years, I have not missed or been late on a payment except once due to an oversight.   I have a stable life and home with a good job of nearly 6yrs with plans of retiring from there.  Thank you for your thoughtful consideration.'],\n",
       "      dtype=object)"
      ]
     },
     "execution_count": 394,
     "metadata": {},
     "output_type": "execute_result"
    }
   ],
   "source": [
    "\n",
    "accepted_df_copy['loan_purpose'].unique()"
   ]
  },
  {
   "cell_type": "markdown",
   "id": "5c1ba877",
   "metadata": {},
   "source": [
    "### Inspect 'title' column and change 'title' column to categorical data type if needed"
   ]
  },
  {
   "cell_type": "code",
   "execution_count": 358,
   "id": "29d4a581",
   "metadata": {},
   "outputs": [
    {
     "name": "stdout",
     "output_type": "stream",
     "text": [
      "<class 'pandas.core.series.Series'>\n",
      "Index: 2260668 entries, 0 to 2260698\n",
      "Series name: title\n",
      "Non-Null Count    Dtype \n",
      "--------------    ----- \n",
      "2260668 non-null  object\n",
      "dtypes: object(1)\n",
      "memory usage: 99.0+ MB\n",
      "None\n"
     ]
    }
   ],
   "source": [
    "print(accepted_df_copy['title'].info())"
   ]
  },
  {
   "cell_type": "code",
   "execution_count": 359,
   "id": "cd6f6056",
   "metadata": {},
   "outputs": [
    {
     "name": "stdout",
     "output_type": "stream",
     "text": [
      "count                2260668\n",
      "unique                 63155\n",
      "top       Debt consolidation\n",
      "freq                 1153293\n",
      "Name: title, dtype: object\n"
     ]
    }
   ],
   "source": [
    "print(accepted_df_copy['title'].describe())"
   ]
  },
  {
   "cell_type": "code",
   "execution_count": 365,
   "id": "dd5a4885",
   "metadata": {},
   "outputs": [
    {
     "name": "stdout",
     "output_type": "stream",
     "text": [
      "Index(['\"CCC\"',\n",
      "       '\"Discover\" ing I no longer want to \"Chase\" after my own tail.',\n",
      "       '\"For those that said i couldn't\"', '\"Freedom!\"',\n",
      "       '\"Funeral Expenses Loan', '\"Get Out of Debt\"',\n",
      "       '\"Get out of Debt\" Consolidation Loan',\n",
      "       '\"Getting ahead on my debt\" loan',\n",
      "       '\"Getting over the hump\" debt consolidatn', '\"Good Loan\"',\n",
      "       ...\n",
      "       'zero dept', 'zero interest', 'zerodebt', 'zeusamoose', 'zipcar',\n",
      "       'zonball Loan', 'zxcvb', '~Life Reorganization~', '~Summer Fun~',\n",
      "       'îîMY FIRST CAR îî'],\n",
      "      dtype='object', length=61456)\n"
     ]
    }
   ],
   "source": [
    "#Convert 'title' to categorical columns\n",
    "\n",
    "#Strip white space before conversion\n",
    "accepted_df_copy['title'] = accepted_df_copy['title'].str.strip()\n",
    "\n",
    "#convert to categorical variable\n",
    "accepted_df_copy['title'] = accepted_df_copy['title'].astype('category')\n",
    "\n",
    "#show categories\n",
    "print(accepted_df_copy['title'].cat.categories)"
   ]
  },
  {
   "cell_type": "code",
   "execution_count": 371,
   "id": "9bfca497",
   "metadata": {},
   "outputs": [
    {
     "name": "stdout",
     "output_type": "stream",
     "text": [
      "0    Debt consolidation\n",
      "1              Business\n",
      "2               unknown\n",
      "3    Debt consolidation\n",
      "4        Major purchase\n",
      "Name: loan_title, dtype: category\n",
      "Categories (61456, object): ['\"CCC\"', '\"Discover\" ing I no longer want to \"Chase\" after my own tail.', '\"For those that said i couldn't\"', '\"Freedom!\"', ..., 'zxcvb', '~Life Reorganization~', '~Summer Fun~', 'îîMY FIRST CAR îî']\n"
     ]
    }
   ],
   "source": [
    "#Rename 'title' columns to 'loan_title'\n",
    "accepted_df_copy = accepted_df_copy.rename(columns = {'title': 'loan_title'})\n",
    "\n",
    "#Check name of the columns\n",
    "print(accepted_df_copy['loan_title'].head())\n"
   ]
  },
  {
   "cell_type": "markdown",
   "id": "2c8c29fc",
   "metadata": {},
   "source": [
    "### Inspect 'zip_code' column and chnage to categorical variable if necessary"
   ]
  },
  {
   "cell_type": "code",
   "execution_count": 373,
   "id": "b01fca96",
   "metadata": {},
   "outputs": [
    {
     "name": "stdout",
     "output_type": "stream",
     "text": [
      "0    190xx\n",
      "1    577xx\n",
      "2    605xx\n",
      "3    076xx\n",
      "4    174xx\n",
      "5    300xx\n",
      "6    550xx\n",
      "7    293xx\n",
      "8    160xx\n",
      "9    029xx\n",
      "Name: zip_code, dtype: object\n"
     ]
    }
   ],
   "source": [
    "print(accepted_df_copy['zip_code'].head(10))"
   ]
  },
  {
   "cell_type": "markdown",
   "id": "e7480036",
   "metadata": {},
   "source": [
    "Seems like a portion of the zip_code was altered to preserve privacy of the user.\n",
    "\n",
    "We will be just extracting the first 3 digits in another column called 'zip_prefix'"
   ]
  },
  {
   "cell_type": "code",
   "execution_count": 381,
   "id": "8efd0b16",
   "metadata": {},
   "outputs": [
    {
     "name": "stdout",
     "output_type": "stream",
     "text": [
      "0    190\n",
      "1    577\n",
      "2    605\n",
      "3    076\n",
      "4    174\n",
      "Name: zip_prefix, dtype: object\n"
     ]
    }
   ],
   "source": [
    "#Extract first 3 digits of the zip code\n",
    "accepted_df_copy['zip_prefix'] = accepted_df_copy['zip_code'].str[:3]\n",
    "\n",
    "#Check if first 3 digits seem to be extracted correctly\n",
    "print(accepted_df_copy['zip_prefix'].head())"
   ]
  },
  {
   "cell_type": "code",
   "execution_count": 382,
   "id": "ab65746d",
   "metadata": {},
   "outputs": [
    {
     "name": "stdout",
     "output_type": "stream",
     "text": [
      "0\n"
     ]
    }
   ],
   "source": [
    "#Check if there is any x's in the extracted zip code\n",
    "contains_x = accepted_df_copy['zip_prefix'].str.contains('x')\n",
    "\n",
    "#count rows where 'x' is present\n",
    "print(contains_x.sum())"
   ]
  },
  {
   "cell_type": "code",
   "execution_count": 380,
   "id": "16823db0",
   "metadata": {},
   "outputs": [
    {
     "data": {
      "text/plain": [
       "count     2260667\n",
       "unique        956\n",
       "top           112\n",
       "freq        23908\n",
       "Name: zip_prefix, dtype: object"
      ]
     },
     "execution_count": 380,
     "metadata": {},
     "output_type": "execute_result"
    }
   ],
   "source": [
    "accepted_df_copy['zip_prefix'].info()"
   ]
  },
  {
   "cell_type": "markdown",
   "id": "8f26467a",
   "metadata": {},
   "source": [
    "There are 956 unique zip_code prefixes so we can turn zip_prefix into a categorical variable"
   ]
  },
  {
   "cell_type": "code",
   "execution_count": 384,
   "id": "52a53b96",
   "metadata": {},
   "outputs": [
    {
     "name": "stdout",
     "output_type": "stream",
     "text": [
      "Index(['007', '008', '009', '010', '011', '012', '013', '014', '015', '016',\n",
      "       ...\n",
      "       '990', '991', '992', '993', '994', '995', '996', '997', '998', '999'],\n",
      "      dtype='object', length=956)\n"
     ]
    }
   ],
   "source": [
    "# Change zip_prefix to categorical variable\n",
    "\n",
    "accepted_df_copy['zip_prefix'] = accepted_df_copy['zip_prefix'].astype('category')\n",
    "\n",
    "#Check if we have 956 categories\n",
    "print(accepted_df_copy['zip_prefix'].cat.categories)\n"
   ]
  }
 ],
 "metadata": {
  "kernelspec": {
   "display_name": "Python 3 (ipykernel)",
   "language": "python",
   "name": "python3"
  },
  "language_info": {
   "codemirror_mode": {
    "name": "ipython",
    "version": 3
   },
   "file_extension": ".py",
   "mimetype": "text/x-python",
   "name": "python",
   "nbconvert_exporter": "python",
   "pygments_lexer": "ipython3",
   "version": "3.11.5"
  }
 },
 "nbformat": 4,
 "nbformat_minor": 5
}
